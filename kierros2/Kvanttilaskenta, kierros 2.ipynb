{
 "cells": [
  {
   "cell_type": "markdown",
   "metadata": {},
   "source": [
    "$$\\newcommand{\\ket}[1]{\\left|{#1}\\right\\rangle}$$\n",
    "$$\\newcommand{\\bra}[1]{\\left\\langle{#1}\\right|}$$\n",
    "\n",
    "## Tehtävä 1\n",
    "\n",
    "Kvanttitietokoneen muistissa tieto esitetään kubittien avulla. Muistutuksena kubitin perustilat ovat $\\ket 0$ ja $\\ket{1}$. Pystyvektoreina nämä esitetään\n",
    "\n",
    "$$\n",
    "\\ket 0 = \\pmatrix {1 \\\\ 0} \\\\\n",
    "\\ket 1 = \\pmatrix {0 \\\\ 1}.\n",
    "$$\n",
    "\n",
    "NOT-portin matriisiesitys on seuraava:\n",
    "\n",
    "$$\n",
    "X=\\pmatrix {0 & 1 \\\\ 1 & 0}\n",
    "$$\n",
    "\n",
    "Kierroksella 1 laskimme, että kun $X$-portti operoi kubittiin, niin kubitin tila muuttuu käänteiseksi (bit-flip gate), eli\n",
    "\n",
    "$$\n",
    "X\\ket 0 = \\ket 1 \\\\\n",
    "X\\ket 1 = \\ket 0\n",
    "$$\n",
    "\n",
    "Voit palauttaa a- ja b-kohdat Classroomiin haluamassasi muodossa.\n",
    "\n",
    "a) Osoita matriisiesitystä käyttäen, että\n",
    "\n",
    "$$\n",
    "XX\\ket 0 = \\ket 0 \\text{ja} \\\\\n",
    "XX\\ket 1 = \\ket 1\n",
    "$$\n",
    "\n",
    "\n",
    "<a href=\"https://youtu.be/JDDSjsQLv80\" target=\"_blank\">ohjevideo NOT-portin toiminnasta</a>\n",
    "\n",
    "\n",
    "\n",
    "b) Osoita laskemalla matriisien tulo, että $XX=I$, missä $I$ on yksikkömatriisi. Tämä tarkoittaa, että $X$ on itsensä käänteismatriisi.\n",
    "\n",
    "c) Seuraavassa esimerkissä luodaan Qiskitiä käyttäen kvanttipiiri, jossa on yksi kubitti ja $X$-portti."
   ]
  },
  {
   "cell_type": "code",
   "execution_count": 38,
   "metadata": {},
   "outputs": [
    {
     "data": {
      "image/png": "[encoded data removed]",
      "text/plain": [
       "<Figure size 173.376x84.28 with 1 Axes>"
      ]
     },
     "execution_count": 38,
     "metadata": {},
     "output_type": "execute_result"
    }
   ],
   "source": [
    "from qiskit import *\n",
    "\n",
    "# Luodaan kvanttipiiri muuttujaan circ, jossa on yksi kubitti (q0).\n",
    "circ1 = QuantumCircuit(1)\n",
    "\n",
    "# Operoidaan kubittia 0, eli piirin ainoaa kubittia X-portilla.\n",
    "circ1.x(0)\n",
    "\n",
    "# Piirretään luotu piiri.\n",
    "# parametri output=\"mpl\" kertoo, että piirto tapahtuu graafisesti\n",
    "circ1.draw(output=\"mpl\")"
   ]
  },
  {
   "cell_type": "markdown",
   "metadata": {},
   "source": [
    "Kirjoita alle yllä olevan esimerkin mukaisesti Python-koodi, joka luo kvanttipiirin, jossa on kaksi kubittia. Sen jälkeen lisää piiriin portteja siten, että ensimmäiseen kubittiin tehdään kaksi $X$-operaatiota, ja toiseen yksi $X$-operaatio.\n",
    "\n",
    "[x](https://google.com)"
   ]
  },
  {
   "cell_type": "code",
   "execution_count": 5,
   "metadata": {},
   "outputs": [],
   "source": [
    "# Kirjoita koodisi alle.\n",
    "\n"
   ]
  },
  {
   "cell_type": "markdown",
   "metadata": {},
   "source": [
    "## Tehtävä 2\n",
    "\n",
    "Kvanttilaskennassa Hadamard H - portti asettaa kubitin tilojen $\\ket 0$ ja $\\ket 1$ superpositioon seuraavasti:\n",
    "\n",
    "$$\n",
    "H\\ket 0 = \\frac{1}{\\sqrt 2}   (\\ket 0 +  \\ket 1) = \\ket +   \\\\\n",
    "H\\ket 1 = \\frac{1}{\\sqrt 2}   (\\ket 0 -  \\ket 1) = \\ket -\n",
    "$$\n",
    "\n",
    "Huomaa, että näitä kyseisiä tiloja on tapana merkitä myös  $\\ket +$ ja $\\ket -$.\n",
    "\n",
    "H-portin matriisiesitys on seuraava:\n",
    "\n",
    "$$\n",
    "H= \\frac{1}{\\sqrt 2} \\pmatrix {1 & 1 \\\\ 1 & -1}\n",
    "$$\n",
    "\n",
    "\n",
    "a) Osoita matriisiesitystä käyttäen, että\n",
    "\n",
    "$$\n",
    "HH\\ket 0 = \\ket 0 \\text{ja} \\\\\n",
    "HH\\ket 1 = \\ket 1\n",
    "$$\n",
    "\n",
    "b) Osoita laskemalla matriisien tulo, että $HH=I$, missä $I$ on yksikkömatriisi. Tämä tarkoittaa, että $H$ on itsensä käänteismatriisi.\n",
    "\n",
    "<a href=\"https://youtu.be/x6gOp_o7Bi8\" target=\"_blank\">ohjevideo H-portin toiminnasta</a>\n",
    "\n",
    "\n",
    "c) Seuraavassa esimerkissä luodaan Qiskitiä käyttäen kvanttipiiri, jossa on yksi kubitti ja $H$-portti."
   ]
  },
  {
   "cell_type": "code",
   "execution_count": 39,
   "metadata": {},
   "outputs": [
    {
     "data": {
      "image/png": "[encoded data removed]",
      "text/plain": [
       "<Figure size 173.376x84.28 with 1 Axes>"
      ]
     },
     "execution_count": 39,
     "metadata": {},
     "output_type": "execute_result"
    }
   ],
   "source": [
    "from qiskit import *\n",
    "\n",
    "circ2 = QuantumCircuit(1)\n",
    "\n",
    "circ2.h(0)\n",
    "\n",
    "# Piirretään luotu piiri.\n",
    "# parametri output=\"mpl\" kertoo, että piirto tapahtuu graafisesti\n",
    "circ2.draw(output=\"mpl\")"
   ]
  },
  {
   "cell_type": "markdown",
   "metadata": {},
   "source": [
    "Kirjoita alle yllä olevan esimerkin mukaisesti Python-koodi, joka luo kvanttipiirin, jossa on kaksi kubittia. Sen jälkeen lisää piiriin portteja siten, että ensimmäiseen kubittiin tehdään yksi $H$-operaatio, ja toiseen yksi $X$-operaatio."
   ]
  },
  {
   "cell_type": "code",
   "execution_count": 40,
   "metadata": {},
   "outputs": [
    {
     "data": {
      "image/png": "[encoded data removed]",
      "text/plain": [
       "<Figure size 216.72x144.48 with 1 Axes>"
      ]
     },
     "execution_count": 40,
     "metadata": {},
     "output_type": "execute_result"
    }
   ],
   "source": [
    "# Kirjoita koodisi tähän\n",
    "from qiskit import *\n",
    "\n",
    "circ3 = QuantumCircuit(2)\n",
    "\n",
    "circ3.h(0)\n",
    "\n",
    "circ3.x(1)\n",
    "\n",
    "# Piirretään luotu piiri.\n",
    "# parametri output=\"mpl\" kertoo, että piirto tapahtuu graafisesti\n",
    "circ3.draw(output=\"mpl\")"
   ]
  },
  {
   "cell_type": "markdown",
   "metadata": {},
   "source": [
    "## lisätehtävä 3 (ei pakollinen) \n",
    "Kubittien tilat $\\ket +$ ja $\\ket -$ määritettiin seuraavasti\n",
    "$$\n",
    " \\ket + = \\frac{1}{\\sqrt 2}   (\\ket 0 +  \\ket 1)    \\\\\n",
    " \\ket - = \\frac{1}{\\sqrt 2}   (\\ket 0 -  \\ket 1)  \n",
    "$$\n",
    "\n",
    "Z-portin (ns. phase-flip gate) matriisiesitys on seuraava:\n",
    "\n",
    "$$\n",
    "Z=  \\pmatrix {1 & 0 \\\\ 0 & -1}\n",
    "$$\n",
    "\n",
    "Osoita seuraavat yhtälöt oikeiksi laskemalla matriisien tulo:\n",
    "\n",
    "$$\n",
    "Z\\ket + = \\ket - \\text{ja}\\\\\n",
    "Z\\ket - = \\ket +\n",
    "$$"
   ]
  },
  {
   "cell_type": "markdown",
   "metadata": {},
   "source": [
    "## Tehtävä 4\n",
    "\n",
    "Tehtävät 1 - 3 käsittelivät yhden kubitin systeemiä. Seuraavassa 3 tarkasteleme controled NOT porttia (CNOT), joka on kahden kubitin välinen operaatio. Kahden kubitin kvanttipiirissä systeemin tila esitetään seuraavilla kantavektoreilla:\n",
    "\n",
    "$$\n",
    "\\ket{00},  \\ket{01 }, \\ket{10}, \\ket{11} \n",
    "$$\n",
    "\n",
    "missä \n",
    "\n",
    "$$\n",
    "\\ket{00}=\\pmatrix{1 \\\\ 0 \\\\ 0 \\\\0},  \\ket{01}=\\pmatrix{0 \\\\ 1 \\\\ 0 \\\\0}, \\ket{10}=\\pmatrix{0 \\\\ 0 \\\\ 1 \\\\0}, \\ket{11}=\\pmatrix{0 \\\\ 0 \\\\ 0 \\\\1}\n",
    "$$\n",
    "CNOT -portin operoidessa ensimmäinen qubitti on ns. ohjaava kubitti (control qubit), ja jälkimmäinen on kohdekubitti (target qubit). CNOT vaikuttaa koko systeemin tilaan seuraavasti:\n",
    "\n",
    "$$\n",
    "\\ket{00} \\rightarrow  \\ket{00}   \\\\\n",
    "\\ket{01} \\rightarrow  \\ket{01}   \\\\\n",
    "\\ket{10} \\rightarrow  \\ket{11}   \\\\\n",
    "\\ket{11} \\rightarrow  \\ket{10}   \\\\\n",
    "$$\n",
    "\n",
    "Tulos tarkoittaa, että jos ensimmäinen, ns. ohjaavakubitti on $0$, niin kohdekubitin tila ei muutu. Jos ohjaavakubitti $1$, niin kohdekubitin tila muuttuu. \n",
    "\n",
    "CNOT-portin matriisiesitys on seuraava:\n",
    "\n",
    "$$\n",
    "CNOT = \\pmatrix {1 & 0 & 0 & 0 \\\\ 0 & 1 & 0 & 0\\\\ 0 & 0 & 0 & 1 \\\\ 0 & 0 & 1 & 0} \n",
    "$$\n",
    "\n",
    "Piirrosmerkki:\n",
    "\n",
    "![cnot](images/cnot.png)\n",
    "\n",
    "a) Laske CNOT-matriisin ja 2 kubitin tilaa kuvaavan pystyvektorin tulo, ja osoita että \n",
    "\n",
    "$$\n",
    "\\ket{01} \\rightarrow  \\ket{01} \\text{eli laske tulo  } CNOT \\times \\ket{01}  \\\\\n",
    "\\ket{10} \\rightarrow  \\ket{11}  \\text{eli laske tulo  } CNOT \\times \\ket{10} \\\\\n",
    "$$\n",
    "\n",
    "\n",
    "<a href=\"https://youtu.be/rLF-oHaXLtE\" target=\"_blank\">ohjevideo CNOT-portin toiminnasta</a>\n",
    "\n"
   ]
  },
  {
   "cell_type": "markdown",
   "metadata": {},
   "source": [
    "b) Alla on esimerkki, jossa qiskitillä luodaan kvanttipiiriin kaksi kubittia. Ensimmäistä kubittia operoi Hadamard -portti H ja kubitteja yhdistää CNOT-portti."
   ]
  },
  {
   "cell_type": "code",
   "execution_count": 41,
   "metadata": {},
   "outputs": [
    {
     "data": {
      "image/png": "[encoded data removed]",
      "text/plain": [
       "<Figure size 276.92x144.48 with 1 Axes>"
      ]
     },
     "execution_count": 41,
     "metadata": {},
     "output_type": "execute_result"
    }
   ],
   "source": [
    "from qiskit import *\n",
    "circ4 = QuantumCircuit(2)\n",
    "circ4.h(0)\n",
    "\n",
    "circ4.cx(0,1)\n",
    "\n",
    "# Piirretään luotu piiri.\n",
    "# parametri output=\"mpl\" kertoo, että piirto tapahtuu graafisesti\n",
    "circ4.draw(output=\"mpl\")"
   ]
  },
  {
   "cell_type": "markdown",
   "metadata": {},
   "source": [
    "Huomaa, että kuvassa aika eli suoritusjärjestys etenee vasemmalta oikealle. \n",
    "\n",
    "Kirjoita alle Python-koodi, jossa on kolme kvanttirekisteriä ja niissä jokaisessa 1 kubitti. Ensimmäiseen kubittiin operoi H-portti. Tämän jälkeen kvanttipiirissä on\n",
    "CNOT-portti kubittien 0 ja 1 välillä siten, että kubitti 0 on ohjaavakubitti ja 1 kohde. Lisää piiriin CNOT-portti myös\n",
    "kubittien 1 ja 2 välille. Tällöin kubitti 1 on ohjaava."
   ]
  },
  {
   "cell_type": "code",
   "execution_count": null,
   "metadata": {},
   "outputs": [],
   "source": [
    "# Kirjoita koodisi tähän"
   ]
  },
  {
   "cell_type": "markdown",
   "metadata": {},
   "source": [
    "## Tehtävä 5\n",
    "\n",
    "Seuraavassa esimerkissä kvanttipiiriä täydennetään kahdella kvanttirekisterillä ja kahdella klassisella rekisterillä. Kvanttipiiri luodaan syöttämällä rekisterit parametrina komennolle QuantumCircuit(). Kun H-portti operoi systeemiin, niin systeemin, niin kubitin 0 tila on määritetty tilojen $\\ket 0$ ja $\\ket 1$ superpositiona. Kun piirin tila mitataan, niin silloin systeemi siirtyy tiettyyn hyvin määritettyyn tilaan, jonka arvo tallenetaan klassiseen rekisteriin. \n",
    "\n",
    "Kvanttimekaanisella systeemillä jokaisella mahdollisella mitatulla tilalla on tietty todennäköisyys, ja kaikkien eri tilavaihtoehtojen todennäköisyyksien summa on 1.\n"
   ]
  },
  {
   "cell_type": "code",
   "execution_count": 42,
   "metadata": {},
   "outputs": [
    {
     "data": {
      "image/png": "[encoded data removed]",
      "text/plain": [
       "<Figure size 298.592x204.68 with 1 Axes>"
      ]
     },
     "execution_count": 42,
     "metadata": {},
     "output_type": "execute_result"
    }
   ],
   "source": [
    "from qiskit import *\n",
    "# Luodaan 2 kvanttirekisteriä, jotka määrittävät kvanttipiirin\n",
    "qr =QuantumRegister(2)\n",
    "\n",
    "#luodaan 2 klassista rekisteriä mittaustulosten tallentamista varten.\n",
    "cr=ClassicalRegister(2)\n",
    "\n",
    "#luodaan kvanttipiiri\n",
    "mycircuit =QuantumCircuit(qr,cr)\n",
    "\n",
    "#H-portti operoi kubittiin 0\n",
    "mycircuit.h(qr[0])\n",
    "\n",
    "#Mitataan kubitit ja tallennetaan tulokset klassisiin rekistereihin\n",
    "mycircuit.measure(qr, cr)\n",
    "mycircuit.draw(output='mpl')"
   ]
  },
  {
   "cell_type": "markdown",
   "metadata": {},
   "source": [
    "a) Kerro alla olevan kvanttipiirin toimintaperiate. Miten piiri toimii? \n",
    "![kvanttipiiri](images/kvanttipiiri.png)\n",
    "\n",
    "<a href=\"https://youtu.be/SMbh0GgCN7I\" target=\"_blank\">Lisämateriaalia: Measuring a qubit?</a>\n",
    "\n",
    "b) Kokeile määritellä piiri python-kooodilla. "
   ]
  },
  {
   "cell_type": "code",
   "execution_count": null,
   "metadata": {},
   "outputs": [],
   "source": [
    "'''\n",
    "a)-kohta: selosta tähän lyhyesti piirin toimintaperiaate:\n",
    "\n",
    "'''\n",
    "#b) Kokeile kirjoittaa piirin toimintaa kuvaava python koodi"
   ]
  },
  {
   "cell_type": "markdown",
   "metadata": {},
   "source": [
    "## Tehtävä 6\n",
    "a) Mikä on kompleksiluvun $-2+3i$ reaaliosa ja imaginääriosa?\n",
    "\n",
    "Olkoot  $z_1=2+3i$ ja $z_2=5-4i$ kompleksilukuja. Laske\n",
    "\n",
    "b) summa $z_1 +z_2$\n",
    "\n",
    "c) tulo $z_1 z_2$\n",
    "\n",
    "d) ratkaise yhtälö $x^2 = -1$ kompleksilukujen joukossa.\n",
    "\n",
    "e) Mikä on luvun $z=3+2i$ kompleksikonjukaatti eli liittoluku $\\bar{z}$? \n",
    "\n",
    "f) Määritä luvun moduli eli itseisarvo $\\mid z \\mid = \\sqrt{z\\bar{z}}$.\n",
    "\n",
    "d) vapaaehtoinen lisätehtävä: Etsi seuraavien kompleksilukujen polaarimuoto: $-1$, $i$ ja $1+j$\n",
    "\n",
    "<a href=\"http://math.tkk.fi/opetus/p3/04/L/L1printit.pdf\" target=\"_blank\">Kompleksilukujen laskutoimitukset</a>\n",
    "\n",
    "\n"
   ]
  },
  {
   "cell_type": "markdown",
   "metadata": {},
   "source": [
    "## Tehtävä 7 lisätehtävä, ei pakollinen\n",
    "\n",
    "Katso seuraava youtube-video. Yritä hahmottaa piirin toimintaperiaate. Tehtävää ei tarvitse palauttaa. \n",
    "<a href=\"https://youtu.be/w5rCn593Dig\" target =\"_blank\">Superdense coding: how to send two bits using one qubit\n",
    "</a>"
   ]
  },
  {
   "cell_type": "code",
   "execution_count": null,
   "metadata": {},
   "outputs": [],
   "source": []
  }
 ],
 "metadata": {
  "kernelspec": {
   "display_name": "Python 3",
   "language": "python",
   "name": "python3"
  },
  "language_info": {
   "codemirror_mode": {
    "name": "ipython",
    "version": 3
   },
   "file_extension": ".py",
   "mimetype": "text/x-python",
   "name": "python",
   "nbconvert_exporter": "python",
   "pygments_lexer": "ipython3",
   "version": "3.7.6"
  }
 },
 "nbformat": 4,
 "nbformat_minor": 4
}
