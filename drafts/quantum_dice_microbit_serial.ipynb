{
 "cells": [
  {
   "cell_type": "code",
   "execution_count": 1,
   "metadata": {},
   "outputs": [
    {
     "name": "stdout",
     "output_type": "stream",
     "text": [
      "Let us create cubits and quantum circuit..wait a moment..\n",
      "Quantum circuit created! Ready for simulation of Quantum Circuit.\n",
      "setup and simulation ready!\n",
      "Waiting command from microbit\n",
      "Found in serial: \n",
      "Found in serial: \n",
      "Found in serial: \n",
      "Found in serial: \n",
      "Found in serial: \n",
      "Found in serial: \n",
      "Found in serial: \n",
      "Found in serial: \n",
      "Found in serial: \n",
      "Found in serial: \n",
      "Found in serial: \n",
      "Found in serial: \n",
      "Found in serial: \n",
      "Found in serial: start\n",
      "Job Status: job has successfully run\n"
     ]
    },
    {
     "ename": "TypeError",
     "evalue": "can't concat str to bytes",
     "output_type": "error",
     "traceback": [
      "\u001b[0;31m---------------------------------------------------------------------------\u001b[0m",
      "\u001b[0;31mTypeError\u001b[0m                                 Traceback (most recent call last)",
      "\u001b[0;32m<ipython-input-1-8dc09a930442>\u001b[0m in \u001b[0;36m<module>\u001b[0;34m\u001b[0m\n\u001b[1;32m     53\u001b[0m             \u001b[0mnumber\u001b[0m \u001b[0;34m=\u001b[0m \u001b[0mint\u001b[0m\u001b[0;34m(\u001b[0m\u001b[0mbest_score\u001b[0m\u001b[0;34m,\u001b[0m\u001b[0;36m2\u001b[0m\u001b[0;34m)\u001b[0m\u001b[0;34m\u001b[0m\u001b[0;34m\u001b[0m\u001b[0m\n\u001b[1;32m     54\u001b[0m             \u001b[0;31m#plot_histogram(result.get_counts(circuit))\u001b[0m\u001b[0;34m\u001b[0m\u001b[0;34m\u001b[0m\u001b[0;34m\u001b[0m\u001b[0m\n\u001b[0;32m---> 55\u001b[0;31m             \u001b[0mser\u001b[0m\u001b[0;34m.\u001b[0m\u001b[0mwrite\u001b[0m\u001b[0;34m(\u001b[0m\u001b[0;34mb'stop'\u001b[0m\u001b[0;34m+\u001b[0m\u001b[0mstr\u001b[0m\u001b[0;34m(\u001b[0m\u001b[0mnumber\u001b[0m\u001b[0;34m)\u001b[0m\u001b[0;34m)\u001b[0m\u001b[0;34m\u001b[0m\u001b[0;34m\u001b[0m\u001b[0m\n\u001b[0m\u001b[1;32m     56\u001b[0m             \u001b[0;31m#ser.write(b'\\n')\u001b[0m\u001b[0;34m\u001b[0m\u001b[0;34m\u001b[0m\u001b[0;34m\u001b[0m\u001b[0m\n\u001b[1;32m     57\u001b[0m             \u001b[0;31m#print('wrote into serial: pong')\u001b[0m\u001b[0;34m\u001b[0m\u001b[0;34m\u001b[0m\u001b[0;34m\u001b[0m\u001b[0m\n",
      "\u001b[0;31mTypeError\u001b[0m: can't concat str to bytes"
     ]
    }
   ],
   "source": [
    "import time\n",
    "import io\n",
    "import serial\n",
    "import math\n",
    "from qiskit import *\n",
    "\n",
    "\n",
    "ser = serial.Serial('/dev/tty.usbmodem14202', timeout=1, baudrate=115200)\n",
    "sio = io.TextIOWrapper(io.BufferedRWPair(ser, ser))\n",
    "\n",
    "print('Let us create cubits and quantum circuit..wait a moment..')\n",
    "#creating registers, q=quantum, c=classical\n",
    "qreg = QuantumRegister(3)\n",
    "creg = ClassicalRegister(3)\n",
    "circuit = QuantumCircuit(qreg,creg)\n",
    "\n",
    "circuit.ry(2*math.acos(1/math.sqrt(3)), qreg[0])\n",
    "circuit.ch(qreg[0], qreg[1])\n",
    "\n",
    "circuit.h(qreg[2])\n",
    "circuit.barrier()\n",
    "circuit.measure(qreg[0], creg[0])\n",
    "circuit.measure(qreg[1], creg[1])\n",
    "circuit.measure(qreg[2],creg[2])\n",
    "#circuit.draw(output='mpl')\n",
    "print('Quantum circuit created! Ready for simulation of Quantum Circuit.')\n",
    "simulator = Aer.get_backend('qasm_simulator')\n",
    "execute(circuit, backend=simulator)\n",
    "result = execute(circuit, backend=simulator, memory=True).result().get_memory()\n",
    "print('setup and simulation ready!')\n",
    "print('Waiting command from microbit')\n",
    "\n",
    "try:\n",
    "    #ser.write(b'pong')\n",
    "    while True:\n",
    "        serial_in = str(sio.readline())\n",
    "        print('Found in serial: ' + serial_in)\n",
    "        if 'start' in serial_in:\n",
    "            IBMQ.load_account()\n",
    "            provider = IBMQ.get_provider('ibm-q')\n",
    "            qcomp = provider.get_backend('ibmq_essex')\n",
    "            job = execute(circuit, backend=qcomp)\n",
    "            from qiskit.tools.monitor import job_monitor\n",
    "            job_monitor(job) # Koodi jää odottamaan tähän, kun lähetys on jonossa ja käsiteltävänä\n",
    "            result = job.result()\n",
    "            counts = result.get_counts()\n",
    "            dice_result_freq = 0\n",
    "            best_score = 0\n",
    "            for key in counts:\n",
    "                if counts[key] > dice_result_freq:\n",
    "                    dice_result_freq = counts[key]\n",
    "                    best_score = key\n",
    "            number = int(best_score,2)\n",
    "            #plot_histogram(result.get_counts(circuit))\n",
    "            message ='stop'+str(number)\n",
    "            ser.write(bytes(message, 'utf-8'))\n",
    "            #ser.write(b'\\n')\n",
    "            #print('wrote into serial: pong')\n",
    "            #plot_histogram(result.get_counts(circuit))\n",
    "            print(result.get_counts())\n",
    "        time.sleep(0.5)\n",
    "\n",
    "except KeyboardInterrupt:\n",
    "    ser.close()\n",
    "    print('Ohjelman suoritus paattyy.')"
   ]
  },
  {
   "cell_type": "code",
   "execution_count": null,
   "metadata": {},
   "outputs": [],
   "source": []
  },
  {
   "cell_type": "code",
   "execution_count": null,
   "metadata": {},
   "outputs": [],
   "source": []
  }
 ],
 "metadata": {
  "kernelspec": {
   "display_name": "Python 3",
   "language": "python",
   "name": "python3"
  },
  "language_info": {
   "codemirror_mode": {
    "name": "ipython",
    "version": 3
   },
   "file_extension": ".py",
   "mimetype": "text/x-python",
   "name": "python",
   "nbconvert_exporter": "python",
   "pygments_lexer": "ipython3",
   "version": "3.7.6"
  }
 },
 "nbformat": 4,
 "nbformat_minor": 2
}
