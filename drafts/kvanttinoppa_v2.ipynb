{
 "cells": [
  {
   "cell_type": "code",
   "execution_count": 4,
   "metadata": {},
   "outputs": [
    {
     "name": "stdout",
     "output_type": "stream",
     "text": [
      "(1+0j) |00>\n",
      "0j |01>\n",
      "0j |10>\n",
      "0j |11>\n",
      "0j |100>\n",
      "0j |101>\n",
      "0j |110>\n",
      "0j |111>\n"
     ]
    }
   ],
   "source": [
    "import numpy as np\n",
    "\n",
    "from qiskit import QuantumCircuit, QuantumRegister, ClassicalRegister\n",
    "from qiskit import Aer, execute\n",
    "from qiskit.tools.visualization import plot_state_city\n",
    "\n",
    "from qiskit.providers.aer import StatevectorSimulator\n",
    "\n",
    "# Construct quantum circuit without measure\n",
    "qr = QuantumRegister(3, 'qr')\n",
    "circ = QuantumCircuit(qr)\n",
    "#circ.h(qr[0])\n",
    "#circ.cx(qr[0], qr[1])\n",
    "#circ.x()\n",
    "\n",
    "# Select the StatevectorSimulator from the Aer provider\n",
    "simulator = Aer.get_backend('statevector_simulator')\n",
    "\n",
    "# Execute and get counts\n",
    "result = execute(circ, simulator).result()\n",
    "statevector = result.get_statevector(circ)\n",
    "#plot_state_city(statevector, title='Bell state')\n",
    "for i, c in enumerate(statevector):\n",
    "    print(c, f\"|{i:02b}>\")"
   ]
  },
  {
   "cell_type": "code",
   "execution_count": null,
   "metadata": {},
   "outputs": [],
   "source": []
  }
 ],
 "metadata": {
  "kernelspec": {
   "display_name": "Python 3",
   "language": "python",
   "name": "python3"
  },
  "language_info": {
   "codemirror_mode": {
    "name": "ipython",
    "version": 3
   },
   "file_extension": ".py",
   "mimetype": "text/x-python",
   "name": "python",
   "nbconvert_exporter": "python",
   "pygments_lexer": "ipython3",
   "version": "3.7.6"
  }
 },
 "nbformat": 4,
 "nbformat_minor": 2
}
