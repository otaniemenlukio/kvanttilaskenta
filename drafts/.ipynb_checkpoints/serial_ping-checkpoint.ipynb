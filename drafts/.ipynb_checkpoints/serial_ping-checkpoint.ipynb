{
 "cells": [
  {
   "cell_type": "code",
   "execution_count": 2,
   "metadata": {},
   "outputs": [
    {
     "name": "stdout",
     "output_type": "stream",
     "text": [
      "Found in serial: \n",
      "Found in serial: \n",
      "Found in serial: \n",
      "Found in serial: \n",
      "Found in serial: \n",
      "Found in serial: \n",
      "Found in serial: \n",
      "Ohjelman suoritus paattyy.\n"
     ]
    }
   ],
   "source": [
    "import time\n",
    "import io\n",
    "import serial\n",
    "\n",
    "ser = serial.Serial('/dev/tty.usbmodem14202', timeout=1, baudrate=115200)\n",
    "sio = io.TextIOWrapper(io.BufferedRWPair(ser, ser))\n",
    "\n",
    "try:\n",
    "    ser.write(b'pong')\n",
    "    while True:\n",
    "        serial_in = str(sio.readline())\n",
    "        print('Found in serial: ' + serial_in)\n",
    "        if 'ping' in serial_in:\n",
    "            ser.write(b'pong')\n",
    "            #ser.write(b'\\n')\n",
    "            print('wrote into serial: pong')\n",
    "        time.sleep(0.5)\n",
    "\n",
    "except KeyboardInterrupt:\n",
    "    ser.close()\n",
    "    print('Ohjelman suoritus paattyy.')"
   ]
  },
  {
   "cell_type": "code",
   "execution_count": null,
   "metadata": {},
   "outputs": [],
   "source": []
  }
 ],
 "metadata": {
  "kernelspec": {
   "display_name": "Python 3",
   "language": "python",
   "name": "python3"
  },
  "language_info": {
   "codemirror_mode": {
    "name": "ipython",
    "version": 3
   },
   "file_extension": ".py",
   "mimetype": "text/x-python",
   "name": "python",
   "nbconvert_exporter": "python",
   "pygments_lexer": "ipython3",
   "version": "3.7.6"
  }
 },
 "nbformat": 4,
 "nbformat_minor": 2
}
