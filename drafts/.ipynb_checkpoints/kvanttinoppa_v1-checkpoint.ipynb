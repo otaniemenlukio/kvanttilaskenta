{
 "cells": [
  {
   "cell_type": "code",
   "execution_count": 44,
   "metadata": {},
   "outputs": [
    {
     "name": "stdout",
     "output_type": "stream",
     "text": [
      "{'1': 1}\n",
      "{'1': 1}\n",
      "{'1': 1}\n",
      "7\n"
     ]
    }
   ],
   "source": [
    "import math\n",
    "from qiskit import *\n",
    "\n",
    "def num_of_bits(n):\n",
    "  return math.floor(math.log(n, 2)) + 1\n",
    "\n",
    "def random(max):\n",
    "  bits = ''\n",
    "  for i in range(num_of_bits(max)):\n",
    "    quantum_register = QuantumRegister(1)\n",
    "    classical_register = ClassicalRegister(1)\n",
    "    circuit = QuantumCircuit(quantum_register, classical_register)\n",
    "\n",
    "    circuit.h(quantum_register[0])\n",
    "    circuit.measure(quantum_register,classical_register)\n",
    "    circuit.draw(output='mpl')\n",
    "\n",
    "    simulator = Aer.get_backend('qasm_simulator')\n",
    "    result = execute(circuit, backend=simulator, shots =1).result()\n",
    "    counts = result.get_counts()\n",
    "    \n",
    "    for key in counts:\n",
    "        bit = key\n",
    "    print(counts)\n",
    "\n",
    "\n",
    "    bits += bit\n",
    "  return int(bits, 2)\n",
    "\n",
    "def main():\n",
    "    number = random(6)\n",
    "    print(number)\n",
    "\n",
    "main()"
   ]
  },
  {
   "cell_type": "code",
   "execution_count": null,
   "metadata": {},
   "outputs": [],
   "source": []
  },
  {
   "cell_type": "code",
   "execution_count": null,
   "metadata": {},
   "outputs": [],
   "source": []
  },
  {
   "cell_type": "code",
   "execution_count": null,
   "metadata": {},
   "outputs": [],
   "source": []
  }
 ],
 "metadata": {
  "kernelspec": {
   "display_name": "Python 3",
   "language": "python",
   "name": "python3"
  },
  "language_info": {
   "codemirror_mode": {
    "name": "ipython",
    "version": 3
   },
   "file_extension": ".py",
   "mimetype": "text/x-python",
   "name": "python",
   "nbconvert_exporter": "python",
   "pygments_lexer": "ipython3",
   "version": "3.7.6"
  }
 },
 "nbformat": 4,
 "nbformat_minor": 2
}
