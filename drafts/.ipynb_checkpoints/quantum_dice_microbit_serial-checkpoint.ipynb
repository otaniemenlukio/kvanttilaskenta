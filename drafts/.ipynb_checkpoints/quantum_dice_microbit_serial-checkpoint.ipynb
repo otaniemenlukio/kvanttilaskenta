{
 "cells": [
  {
   "cell_type": "code",
   "execution_count": 2,
   "metadata": {},
   "outputs": [
    {
     "name": "stdout",
     "output_type": "stream",
     "text": [
      "Let us create cubits and quantum circuit..wait a moment..\n",
      "Quantum circuit created! Ready for simulation of Quantum Circuit.\n"
     ]
    },
    {
     "ename": "NameError",
     "evalue": "name 'simulator' is not defined",
     "output_type": "error",
     "traceback": [
      "\u001b[0;31m---------------------------------------------------------------------------\u001b[0m",
      "\u001b[0;31mNameError\u001b[0m                                 Traceback (most recent call last)",
      "\u001b[0;32m<ipython-input-2-c93d637297b5>\u001b[0m in \u001b[0;36m<module>\u001b[0;34m\u001b[0m\n\u001b[1;32m     27\u001b[0m \u001b[0;31m#simulator = Aer.get_backend('qasm_simulator')\u001b[0m\u001b[0;34m\u001b[0m\u001b[0;34m\u001b[0m\u001b[0;34m\u001b[0m\u001b[0m\n\u001b[1;32m     28\u001b[0m \u001b[0;31m#execute(circuit, backend=simulator)\u001b[0m\u001b[0;34m\u001b[0m\u001b[0;34m\u001b[0m\u001b[0;34m\u001b[0m\u001b[0m\n\u001b[0;32m---> 29\u001b[0;31m \u001b[0mresult\u001b[0m \u001b[0;34m=\u001b[0m \u001b[0mexecute\u001b[0m\u001b[0;34m(\u001b[0m\u001b[0mcircuit\u001b[0m\u001b[0;34m,\u001b[0m \u001b[0mbackend\u001b[0m\u001b[0;34m=\u001b[0m\u001b[0msimulator\u001b[0m\u001b[0;34m,\u001b[0m \u001b[0mmemory\u001b[0m\u001b[0;34m=\u001b[0m\u001b[0;32mTrue\u001b[0m\u001b[0;34m)\u001b[0m\u001b[0;34m.\u001b[0m\u001b[0mresult\u001b[0m\u001b[0;34m(\u001b[0m\u001b[0;34m)\u001b[0m\u001b[0;34m.\u001b[0m\u001b[0mget_memory\u001b[0m\u001b[0;34m(\u001b[0m\u001b[0;34m)\u001b[0m\u001b[0;34m\u001b[0m\u001b[0;34m\u001b[0m\u001b[0m\n\u001b[0m\u001b[1;32m     30\u001b[0m \u001b[0msimulator\u001b[0m \u001b[0;34m=\u001b[0m \u001b[0mAer\u001b[0m\u001b[0;34m.\u001b[0m\u001b[0mget_backend\u001b[0m\u001b[0;34m(\u001b[0m\u001b[0;34m'qasm_simulator'\u001b[0m\u001b[0;34m)\u001b[0m\u001b[0;34m\u001b[0m\u001b[0;34m\u001b[0m\u001b[0m\n\u001b[1;32m     31\u001b[0m \u001b[0mresult\u001b[0m \u001b[0;34m=\u001b[0m \u001b[0mexecute\u001b[0m\u001b[0;34m(\u001b[0m\u001b[0mcircuit\u001b[0m\u001b[0;34m,\u001b[0m \u001b[0mbackend\u001b[0m\u001b[0;34m=\u001b[0m\u001b[0msimulator\u001b[0m\u001b[0;34m,\u001b[0m \u001b[0mshots\u001b[0m \u001b[0;34m=\u001b[0m\u001b[0;36m1\u001b[0m\u001b[0;34m)\u001b[0m\u001b[0;34m.\u001b[0m\u001b[0mresult\u001b[0m\u001b[0;34m(\u001b[0m\u001b[0;34m)\u001b[0m\u001b[0;34m\u001b[0m\u001b[0;34m\u001b[0m\u001b[0m\n",
      "\u001b[0;31mNameError\u001b[0m: name 'simulator' is not defined"
     ]
    }
   ],
   "source": [
    "import time\n",
    "import io\n",
    "import serial\n",
    "import math\n",
    "from qiskit import *\n",
    "\n",
    "\n",
    "ser = serial.Serial('/dev/tty.usbmodem14202', timeout=1, baudrate=115200)\n",
    "sio = io.TextIOWrapper(io.BufferedRWPair(ser, ser))\n",
    "\n",
    "print('Let us create cubits and quantum circuit..wait a moment..')\n",
    "#creating registers, q=quantum, c=classical\n",
    "qreg = QuantumRegister(3)\n",
    "creg = ClassicalRegister(3)\n",
    "circuit = QuantumCircuit(qreg,creg)\n",
    "\n",
    "circuit.ry(2*math.acos(1/math.sqrt(3)), qreg[0])\n",
    "circuit.ch(qreg[0], qreg[1])\n",
    "\n",
    "circuit.h(qreg[2])\n",
    "circuit.barrier()\n",
    "circuit.measure(qreg[0], creg[0])\n",
    "circuit.measure(qreg[1], creg[1])\n",
    "circuit.measure(qreg[2],creg[2])\n",
    "#circuit.draw(output='mpl')\n",
    "print('Quantum circuit created! Ready for simulation of Quantum Circuit.')\n",
    "#simulator = Aer.get_backend('qasm_simulator')\n",
    "#execute(circuit, backend=simulator)\n",
    "#result = execute(circuit, backend=simulator, memory=True).result().get_memory()\n",
    "simulator = Aer.get_backend('qasm_simulator')\n",
    "result = execute(circuit, backend=simulator, shots =1).result()\n",
    "#counts = result.get_counts()\n",
    "print('setup and simulation ready!')\n",
    "print('Waiting command from microbit')\n",
    "\n",
    "try:\n",
    "    #ser.write(b'pong')\n",
    "    while True:\n",
    "        serial_in = str(sio.readline())\n",
    "        print('Found in serial: ' + serial_in)\n",
    "        if 'start' in serial_in:\n",
    "            IBMQ.load_account()\n",
    "            provider = IBMQ.get_provider('ibm-q')\n",
    "            qcomp = provider.get_backend('ibmq_16_melbourne')\n",
    "            job = execute(circuit, backend=qcomp)\n",
    "            from qiskit.tools.monitor import job_monitor\n",
    "            job_monitor(job) # Koodi jää odottamaan tähän, kun lähetys on jonossa ja käsiteltävänä\n",
    "            result = job.result()\n",
    "            counts = result.get_counts()\n",
    "            dice_result_freq = 0\n",
    "            best_score = 0\n",
    "            for key in counts:\n",
    "                if counts[key] > dice_result_freq:\n",
    "                    dice_result_freq = counts[key]\n",
    "                    best_score = key\n",
    "            if best_score == '000':\n",
    "                best_score = '010'\n",
    "            if best_score == '111':\n",
    "                best_core = '110'\n",
    "            number = int(best_score,2)\n",
    "            #plot_histogram(result.get_counts(circuit))\n",
    "            message = str(number)\n",
    "            ser.write(bytes(message, 'utf-8'))\n",
    "            #plot_histogram(result.get_counts(circuit))\n",
    "            print(result.get_counts())\n",
    "        time.sleep(0.5)\n",
    "\n",
    "except KeyboardInterrupt:\n",
    "    ser.close()\n",
    "    print('Ohjelman suoritus paattyy.')"
   ]
  },
  {
   "cell_type": "code",
   "execution_count": null,
   "metadata": {},
   "outputs": [],
   "source": []
  },
  {
   "cell_type": "code",
   "execution_count": null,
   "metadata": {},
   "outputs": [],
   "source": []
  },
  {
   "cell_type": "code",
   "execution_count": null,
   "metadata": {},
   "outputs": [],
   "source": []
  }
 ],
 "metadata": {
  "kernelspec": {
   "display_name": "Python 3",
   "language": "python",
   "name": "python3"
  },
  "language_info": {
   "codemirror_mode": {
    "name": "ipython",
    "version": 3
   },
   "file_extension": ".py",
   "mimetype": "text/x-python",
   "name": "python",
   "nbconvert_exporter": "python",
   "pygments_lexer": "ipython3",
   "version": "3.7.6"
  }
 },
 "nbformat": 4,
 "nbformat_minor": 2
}
