{
 "cells": [
  {
   "cell_type": "code",
   "execution_count": 31,
   "metadata": {},
   "outputs": [
    {
     "data": {
      "image/png": "[encoded data removed]",
      "text/plain": [
       "<Figure size 358.792x204.68 with 1 Axes>"
      ]
     },
     "execution_count": 31,
     "metadata": {},
     "output_type": "execute_result"
    }
   ],
   "source": [
    "from qiskit import *\n",
    "\n",
    "qreg = QuantumRegister(2)\n",
    "creg = ClassicalRegister(2)\n",
    "circuit = QuantumCircuit(qreg, creg)\n",
    "circuit.h(qreg[0])\n",
    "circuit.cx(qreg[0],qreg[1])\n",
    "circuit.h(qreg[0])\n",
    "#circuit.barrier()\n",
    "#circuit.measure(qreg[0],creg[0])\n",
    "#circuit.measure(qreg[1],creg[1])\n",
    "circuit.draw(output='mpl')\n",
    "\n"
   ]
  },
  {
   "cell_type": "code",
   "execution_count": 32,
   "metadata": {},
   "outputs": [
    {
     "name": "stdout",
     "output_type": "stream",
     "text": [
      "(0.5000000000000001+0j) |00>\n",
      "(0.5+0j) |01>\n",
      "(0.4999999999999999-6.123233995736765e-17j) |10>\n",
      "(-0.5+6.123233995736766e-17j) |11>\n"
     ]
    }
   ],
   "source": [
    "simulator = Aer.get_backend('statevector_simulator')\n",
    "\n",
    "# Suoritetaan\n",
    "result = execute(circuit, simulator).result()\n",
    "statevector = result.get_statevector(circuit)\n",
    "#print(result)\n",
    "#print(statevector)\n",
    "# Tulostetaan saatu tila ket-notaation kera\n",
    "for i, c in enumerate(statevector):\n",
    "    print(c, f\"|{i:02b}>\")\n",
    "\n",
    "#visualization.plot_bloch_multivector(statevector, title=\"tilavektori\")\n"
   ]
  },
  {
   "cell_type": "code",
   "execution_count": null,
   "metadata": {},
   "outputs": [],
   "source": []
  }
 ],
 "metadata": {
  "kernelspec": {
   "display_name": "Python 3",
   "language": "python",
   "name": "python3"
  },
  "language_info": {
   "codemirror_mode": {
    "name": "ipython",
    "version": 3
   },
   "file_extension": ".py",
   "mimetype": "text/x-python",
   "name": "python",
   "nbconvert_exporter": "python",
   "pygments_lexer": "ipython3",
   "version": "3.7.6"
  }
 },
 "nbformat": 4,
 "nbformat_minor": 2
}
