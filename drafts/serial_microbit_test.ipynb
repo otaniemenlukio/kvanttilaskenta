{
 "cells": [
  {
   "cell_type": "code",
   "execution_count": 19,
   "metadata": {},
   "outputs": [
    {
     "name": "stdout",
     "output_type": "stream",
     "text": [
      "Let us create cubits and quantum circuit..wait a moment..\n",
      "Found in serial: \n",
      "Found in serial: start\n",
      "3\n",
      "message:  3\n",
      "Found in serial: \n",
      "Found in serial: \n",
      "Found in serial: \n",
      "Found in serial: \n",
      "Found in serial: \n",
      "Found in serial: start\n",
      "3\n",
      "message:  3\n",
      "Found in serial: \n",
      "Found in serial: \n",
      "Found in serial: \n",
      "Found in serial: \n",
      "Ohjelman suoritus paattyy.\n"
     ]
    }
   ],
   "source": [
    "import time\n",
    "import io\n",
    "import serial\n",
    "import math\n",
    "from qiskit import *\n",
    "\n",
    "\n",
    "ser = serial.Serial('/dev/tty.usbmodem14202', timeout=1, baudrate=115200)\n",
    "sio = io.TextIOWrapper(io.BufferedRWPair(ser, ser))\n",
    "\n",
    "print('Let us create cubits and quantum circuit..wait a moment..')\n",
    "#creating registers, q=quantum, c=classical\n",
    "\n",
    "try:\n",
    "    #ser.write(b'pong')\n",
    "    counts ={'000':10, '001':20, '011':40, '110':30}\n",
    "    while True:\n",
    "        serial_in = str(sio.readline())\n",
    "        print('Found in serial: ' + serial_in)\n",
    "        if 'start' in serial_in:\n",
    "            time.sleep(5)\n",
    "            dice_result_freq = 0\n",
    "            best_score = 0\n",
    "            for key in counts:\n",
    "                if counts[key] > dice_result_freq:\n",
    "                    dice_result_freq = counts[key]\n",
    "                    best_score = key\n",
    "            number = int(best_score,2)\n",
    "            print(number)\n",
    "            message = str(number)\n",
    "            print('message: ', message)\n",
    "            #ser.write(b'result3')\n",
    "            ser.write(bytes(message, 'utf-8'))\n",
    "            \n",
    "        time.sleep(0.5)\n",
    "\n",
    "except KeyboardInterrupt:\n",
    "    ser.close()\n",
    "    print('Ohjelman suoritus paattyy.')"
   ]
  },
  {
   "cell_type": "code",
   "execution_count": null,
   "metadata": {},
   "outputs": [],
   "source": []
  },
  {
   "cell_type": "code",
   "execution_count": null,
   "metadata": {},
   "outputs": [],
   "source": []
  },
  {
   "cell_type": "code",
   "execution_count": null,
   "metadata": {},
   "outputs": [],
   "source": []
  }
 ],
 "metadata": {
  "kernelspec": {
   "display_name": "Python 3",
   "language": "python",
   "name": "python3"
  },
  "language_info": {
   "codemirror_mode": {
    "name": "ipython",
    "version": 3
   },
   "file_extension": ".py",
   "mimetype": "text/x-python",
   "name": "python",
   "nbconvert_exporter": "python",
   "pygments_lexer": "ipython3",
   "version": "3.7.6"
  }
 },
 "nbformat": 4,
 "nbformat_minor": 2
}
