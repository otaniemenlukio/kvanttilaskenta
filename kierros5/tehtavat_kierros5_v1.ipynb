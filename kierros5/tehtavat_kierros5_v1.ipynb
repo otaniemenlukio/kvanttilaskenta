{
 "cells": [
  {
   "cell_type": "markdown",
   "metadata": {},
   "source": [
    "$$\\newcommand{\\ket}[1]{\\left|{#1}\\right\\rangle}$$\n",
    "$$\\newcommand{\\bra}[1]{\\left\\langle{#1}\\right|}$$\n",
    "\n",
    "## Tehtävä 1: Z-portin toteus kvanttitietokoneesa\n",
    "\n",
    "### Johdanto\n",
    "Kierroksella 2 kubittien tilat $\\ket +$ ja $\\ket -$ määritettiin seuraavasti:\n",
    "$$\n",
    " \\ket + = \\frac{1}{\\sqrt 2} (\\ket 0 +  \\ket 1), \\\\\n",
    " \\ket - = \\frac{1}{\\sqrt 2} (\\ket 0 -  \\ket 1). \n",
    "$$\n",
    "\n",
    "Z-portin (ns. phase-flip gate) matriisiesitys on seuraava:\n",
    "\n",
    "$$\n",
    "Z=  \\pmatrix {1 & 0 \\\\ 0 & -1}\n",
    "$$\n",
    "\n",
    "Z-portin vaikutus esimerkiksi tiloihin $\\ket +$ ja $\\ket -$ on seuraava:\n",
    "\n",
    "$$\n",
    "\\begin{align}\n",
    "Z\\ket + &= \\ket - \\text{ja}\\\\\n",
    "Z\\ket - &= \\ket +\n",
    "\\end{align}\n",
    "$$\n",
    "\n",
    "### Tehtävä\n",
    "Professori Mikko Möttöinen kertoi luennolla, ettei kvanttitietokoneen valmistajan tarvitse realisoida kaikkia kvanttitietokoneen portteja, koska useiden porttien toiminta on korvattavissa muilla porteilla. Miten Z-portin operaatio on toteutettavissa Hadamard H-portilla ja X-portilla eli not portilla? \n",
    "\n",
    "Ohje: Tutki kuinka Z-portti kiertää Blochin pallolle piirrettyä tilavektoria, tai päättele miten Z-portin matriisiesitys saadaan laskettua H- ja X-porttien matriisiesityksestä. Kertauksena:\n",
    "\n",
    "\n",
    "\n",
    "\n",
    "\n",
    "$$\n",
    "X=  \\pmatrix {0 & 1 \\\\ 1 & 0} \\quad \\text{ja} \\quad H=\\frac 1 {\\sqrt{2}}\\pmatrix {1 & 1 \\\\ 1 & -1}\n",
    "$$\n",
    "\n",
    "\n",
    "\n"
   ]
  },
  {
   "cell_type": "markdown",
   "metadata": {},
   "source": [
    "## Tehtävä 2:  Piirin tilan tarkastelua\n",
    "\n",
    "### Johdanto\n",
    "\n",
    "### Tehtävä"
   ]
  },
  {
   "cell_type": "code",
   "execution_count": 22,
   "metadata": {},
   "outputs": [
    {
     "name": "stdout",
     "output_type": "stream",
     "text": [
      "(0.7071067811865476+0j) |00>\n",
      "0j |01>\n",
      "0j |10>\n",
      "(0.7071067811865475+0j) |11>\n"
     ]
    }
   ],
   "source": [
    "import numpy as np\n",
    "\n",
    "from qiskit import QuantumCircuit, QuantumRegister, ClassicalRegister\n",
    "from qiskit import Aer, execute\n",
    "from qiskit.tools.visualization import plot_state_city\n",
    "\n",
    "from qiskit.providers.aer import StatevectorSimulator\n",
    "\n",
    "\n",
    "# Määritellään kahden kubitin kvanttipiiri ilman mittausta\n",
    "qr = QuantumRegister(2, 'qr')\n",
    "circuit = QuantumCircuit(qr)\n",
    "#circuit.x(qr[0])\n",
    "#circuit.x(qr[1])\n",
    "# H-portti operoi ensimmäiseen kubittiin\n",
    "circuit.h(qr[0])\n",
    "# CNOT-portti, jossa taulukon ensimmäinen kubitti qr[0] toimii ohjaavana\n",
    "circuit.cx(qr[0], qr[1])\n",
    "\n",
    "\n",
    "# Valitaan simulaattorityyppi, joka laskee lopullisen kvanttitilan numeerisesti\n",
    "# eikä tee pelkästään yksittäisiä mittausottoja.\n",
    "simulator = Aer.get_backend('statevector_simulator')\n",
    "\n",
    "# Suoritetaan\n",
    "result = execute(circuit, simulator).result()\n",
    "statevector = result.get_statevector(circuit)\n",
    "\n",
    "# Tulostetaan saatu tila ket-notaation kera\n",
    "for i, c in enumerate(statevector):\n",
    "    print(c, f\"|{i:02b}>\")\n",
    "\n"
   ]
  },
  {
   "cell_type": "markdown",
   "metadata": {},
   "source": [
    "Koodin tulosteessa merkintä `0.707...+0j` tarkoittaa, että kompleksiluvun reaaliosa on 0.707 ja `j` on imaginääriyksikkö. Huomaa, että $1 / \\sqrt 2 \\approx 0.707$."
   ]
  },
  {
   "cell_type": "code",
   "execution_count": 19,
   "metadata": {},
   "outputs": [
    {
     "data": {
      "image/png": "[encoded data removed]",
      "text/plain": [
       "<Figure size 287.756x144.48 with 1 Axes>"
      ]
     },
     "execution_count": 19,
     "metadata": {},
     "output_type": "execute_result"
    }
   ],
   "source": [
    "\n",
    "# Piirretään luotu piiri.\n",
    "circuit.draw(output=\"mpl\")\n"
   ]
  },
  {
   "cell_type": "markdown",
   "metadata": {},
   "source": [
    "**LISÄTIETOJA TEHTÄVÄN 1 RATKAISUISTA:**\n",
    "\n",
    "\n",
    "Tehtävän A- ja B-kohdan ratkaisut ovat ns. Bellin tiloja, jotka määritellään seuraavasti:\n",
    "\n",
    "\n",
    "**A:** Kun alkuarvot ovat $\\ket 1$ ja $\\ket 0$, niin saadaan $\\ket {\\phi^-}=\\frac{1}{\\sqrt 2}(\\ket{00}-\\ket{11}$\n",
    "\n",
    "**B:**\n",
    "\n",
    "Kun alkuarvot ovat $\\ket 0$ ja $\\ket 1$, niin saadaan $\\ket {\\psi^+}=\\frac{1}{\\sqrt 2}(\\ket{01}+\\ket{10}$ \n",
    "\n",
    "Kun alkuarvot ovat $\\ket 1$ ja $\\ket 1$, niin saadaan $\\ket {\\psi^-}=\\frac{1}{\\sqrt 2}(\\ket{01}-\\ket{10}$\n",
    "\n",
    "\n",
    "Vektorit $\\ket {\\phi^+}$ ja $\\ket {\\phi^-}$ sekä $\\ket {\\psi^+}$ ja $\\ket {\\psi^-}$ ovat ns. ortonormaaleja Bellin kantavektoreita, joita voidaan käyttää kvanttipiirin tilan kuvauksessa. Kun Bellin kantavektorit laskettiin kahden kubitin alkutiloista suoritetiin ns. kannanvaihto. H- ja CNOT-porttien avulla toteutettu kannanvaihto on unitaarinen, koska käytetyt portit ovat unitaarisia. Oikeastaan kaikki ortonormaalien kantojen väliset kannanvaihto-operaattorit ovat unitaarisia.\n"
   ]
  },
  {
   "cell_type": "code",
   "execution_count": 23,
   "metadata": {},
   "outputs": [],
   "source": [
    "# Kopioi tähän halutessasi yllä oleva koodiesimerkki ja tulosta arvoja eri input-arvoilla.\n",
    "# Voit tehdä tehtävän myös suoraan yllä olevaan koodilaatikkoon, ja muokata siinä input-arvoja."
   ]
  },
  {
   "cell_type": "code",
   "execution_count": null,
   "metadata": {},
   "outputs": [],
   "source": []
  },
  {
   "cell_type": "markdown",
   "metadata": {},
   "source": [
    "## Tehtävä 2: Satunnaisluvun arpominen ja kvanttinoppa\n",
    "\n",
    "Tässä tehtävässä tutkitaan, miten kvanttitietokonetta voisi käyttää satunnaislukujen tuottamiseen.\n",
    "\n",
    "\n",
    "#### Muistutus binäärijärjestelmästä\n",
    "\n",
    "Esimerkiksi 10-järjestelmän luku 6 voidaan esittää binäärimuodossa $6=1\\cdot 2^2+1\\cdot2^1+0\\cdot 2^0=110_2$.\n",
    "\n",
    "\n",
    "\n",
    "Seuraava kvanttipiiri käyttä 5 kubittia, joilla arvotaan 5 klassisesta bitistä koostuva satunnaisluku:\n",
    "\n",
    "\n",
    "<img src=\"https://kvanttilaskenta.net/hub/static/content/kierros4/quantum_dice1.png\" width=\"300\">\n",
    "\n",
    "\n",
    "\n",
    "a) Selitä piirin toimintaperiaate. Miten kuvan kvanttipiirin avulla voidaan määrittää 5 bitistä koostuva satunnaisluku binäärimuodossa?\n",
    "\n",
    "b) Ohjelmoi kuvan kvanttipiiri. Jos osaat, kokeile myös simuloida piirin toimintaa.\n",
    "\n",
    "c) **Kvanttinoppa:**\n",
    "\n",
    "Aiemmalla esimerkillä saadaan vain noppia, joilla on jonkin kahden potenssin ($2^n$) verran eri silmälukuja. Seuraavassa yritämme luoda perinteisen 6-sivuisen nopan.\n",
    "\n",
    "Alla oleva piiri esittää kvanttinoppaa, joka arpoo yhden kuudesta luvusta: 0, 1, 3, 4, 5 tai 7. \n",
    "\n",
    "<img src=\"https://kvanttilaskenta.net/hub/static/content/kierros4/quantum_dice2.jpeg\" width=\"300\">\n",
    "\n",
    "Tavoitteena on, että jokaisella loputuloksella olisi sama todennäköisyys. Ennen mittausta piirin luomaa kolmen kubitin tilaa voidaan esittää tilavektorilla\n",
    "\n",
    "$$\n",
    "\\ket \\psi =\\frac1{\\sqrt6}(\\ket {000}+\\ket{001}+\\ket{011}+\\ket{100}+\\ket{101}+\\ket{111}).\n",
    "$$\n",
    "\n",
    "Kolmen kubitin systeemi on superpositiossa, ja kun systeemin tila mitataan, on jokaisella mahdollisella lopputilalla sama esiintymistodennäköisyys,\n",
    "\n",
    "$$P=\\left(\\frac 1 {\\sqrt 6}\\right)^2=\\frac 1 6$$. \n",
    "\n",
    "Kun tila mitataan, tallettuu tieto saadusta lopputuloksesta klassiseen rekisteriin. Esimerkiksi binääriluku $011_2= 0\\cdot2^2+1\\cdot2^1+1\\cdot2^0=3_{10}$ on 10-järjestelmän luku 3. \n",
    "\n",
    "Piirissä on kaksi uutta porttia, ohjattu (controlled) Hadamard ja kubitin tilan kierto y-akselin suhteen Blochin pallolla. Kiertoportilla $R_y$ luodaan tila $\\frac 1 { \\sqrt{3}} (\\ket 0 + \\sqrt 2 \\ket 1) $ ja ohjatulla Hadamard-portilla jaetaan lausekkeen jälkimmäinen termi kahteen osaan, jolloin saadaan $\\frac 1{\\sqrt3}(\\ket {00}+\\ket{01}+\\ket{11})$. Kiertoportin parametri eli kääntökulma valitaan siten, että lopputulos painottuu oikein.  Hadamard-muunnos tehdään siis vain niille tilan osille, joissa ensimmäinen kubitti on $\\ket 1$. (muista järjestys: ensimmäinen kubitti bittijonossa viimeisenä)\n",
    "\n",
    "\n",
    "\n",
    "Seuraavassa piirin simuloinnista saadut tulokset:\n",
    "\n",
    "<img src=\"https://kvanttilaskenta.net/hub/static/content/kierros4/dice_sim.jpeg\" width=\"300\">\n",
    "\n",
    "\n",
    "\n",
    "\n",
    "Alla on kvanttipiirin määrittelyssä käytetty koodi. Simuloi piiri. Suorita tämän jälkeen koodi oikella kvanttitietokoneella ja vertaile simuloinnin ja todellisten suoritusten eroja. Miten käytetyt portit vaikuttavat piirin toimintaan?\n",
    "\n",
    "_Taustatietoa:_ Yhden kubitin kääntöportit (tässä parametrisoitu $R_y$ ja Hadamard) toteutetaan suprajohtavien kubittien kvanttitietokoneessa eri mittaisilla mikroaaltopulsseilla. Pulssin pituus määrää kääntökulman. Voiko tämä kääntö olla tarkkaa?\n",
    "\n",
    "Monimutkaisia usean kubitin portteja, kuten ohjattua Hadamard-porttia ei ole yleensä suoraan toteutettu kvanttitietokoneessa, vaan sen toiminta pitää korvata useammalla alkeellisella portilla.\n"
   ]
  },
  {
   "cell_type": "code",
   "execution_count": null,
   "metadata": {},
   "outputs": [],
   "source": [
    "from qiskit import *\n",
    "import math\n",
    "\n",
    "qreg = QuantumRegister(3)\n",
    "creg = ClassicalRegister(3)\n",
    "\n",
    "circuit = QuantumCircuit(qreg,creg)\n",
    "circuit.draw(output='mpl')"
   ]
  },
  {
   "cell_type": "code",
   "execution_count": null,
   "metadata": {},
   "outputs": [],
   "source": [
    "# Ry-portti ottaa parametrina haluamamme kulman\n",
    "circuit.ry(2*math.acos(1/math.sqrt(3)), qreg[0])\n",
    "circuit.ch(qreg[0], qreg[1])\n",
    "circuit.h(qreg[2])\n",
    "circuit.barrier()\n",
    "circuit.measure(qreg[0], creg[0])\n",
    "circuit.measure(qreg[1], creg[1])\n",
    "circuit.measure(qreg[2],creg[2])\n",
    "circuit.draw(output='mpl')"
   ]
  },
  {
   "cell_type": "code",
   "execution_count": null,
   "metadata": {},
   "outputs": [],
   "source": [
    "# Tehtävä 2 jatkuu: simulointi\n",
    "simulator = Aer.get_backend('qasm_simulator')\n",
    "result = execute(circuit, backend=simulator).result()\n",
    "\n",
    "# Vaihtoehtoisesti kokeile kommentoitua koodia,\n",
    "# joka kertoo jokaisen nopanheiton tuloksen erikseen:\n",
    "#execute(circuit, backend=simulator)\n",
    "#result = execute(circuit, backend=simulator, shots=16, memory=True).result().get_memory()\n",
    "#print(result)\n",
    "\n",
    "from qiskit.tools.visualization import plot_histogram\n",
    "plot_histogram(result.get_counts(circuit))"
   ]
  },
  {
   "cell_type": "code",
   "execution_count": null,
   "metadata": {},
   "outputs": [],
   "source": [
    "# Yksi toisto, poista tarvittessa kommentit\n",
    "simulator = Aer.get_backend('qasm_simulator')\n",
    "result = execute(circuit, backend=simulator, shots=1).result()\n",
    "counts = result.get_counts()\n",
    "print(counts)"
   ]
  },
  {
   "cell_type": "code",
   "execution_count": null,
   "metadata": {},
   "outputs": [],
   "source": [
    "IBMQ.load_account()\n",
    "provider = IBMQ.get_provider('ibm-q')\n",
    "\n",
    "# Vaihda tähän haluamasi IBM:n kvanttitietokoneen nimi\n",
    "# (lista löytyy esim. IBM:n nettisivuilta)\n",
    "qcomp = provider.get_backend('ibmq_essex')\n",
    "job = execute(circuit, backend=qcomp)\n",
    "\n",
    "from qiskit.tools.monitor import job_monitor\n",
    "job_monitor(job) # Koodi jää odottamaan tähän, kun lähetys on jonossa ja käsiteltävänä\n",
    "\n",
    "result = job.result()\n",
    "plot_histogram(result.get_counts(circuit))"
   ]
  },
  {
   "cell_type": "markdown",
   "metadata": {},
   "source": [
    "Tekstivastauskenttä. (tuplaklikkaa, niin pääset muokkaamaan)\n",
    "\n"
   ]
  },
  {
   "cell_type": "markdown",
   "metadata": {},
   "source": [
    "## Tehtävä 3\n",
    "\n",
    "Tehtävässä 3 rakennetaan tutoriaalin avulla kvanttipiiri, joka ratkaisee binaarimuotoisen salasanan yhdellä yrityksellä. Salasana koostuu vain 0:sta ja 1:stä, salasanan pituus voi vaihdella. Annettuna on funktio eli musta laatikko, joka käyttäytyy sovitulla tavalla salasanan perusteella. Funktio käyttäytyy siten, että se vertailee salasanan jokaista bittiä ja syötteen jokaista bittiä. Funktio laskee AND-operaation salasanan $s$ ja syötteen $x$ jokaisen bitin välillä.   \n",
    "\n",
    "$$\n",
    "\\begin{array}{r|cccccc}\n",
    "s & 0 & 1 & 1 & 0 & 1 & 0 \\\\\n",
    "x & 0 & 0 & 1 & 1 & 1 & 0 \\\\ \n",
    "\\hline\n",
    "\\mathit{AND}  &0&0&1&0&1&0\n",
    "\\end{array}\n",
    "$$\n",
    "\n",
    "Funktio palauttaa 0 jos tuloksena oli parillinen määrä ykkösbittejä, muuten funktio palauttaa 1. Toisin sanoen, funktio kertoo, kuinka monta kertaa salasanassa ja syötteessä on 1 bitti samassa kohdassa ja palauttaa tiedon onko näitä kohtia pariton vai parillinen määrä. Taulukon esimerkissä funktio palauttaisi arvon 0.\n",
    "\n",
    "Tässä termi \"musta laatikko\" ei tarkoita, ettemme tietäisi piirin toteutusta, päinvastoin: piirin jokainen portti on oltava tiedossa, jotta se voidaan suorittaa kvanttitietokonella. Tämä herättää kysymyksen, mitä hyötyä salasanan ratkaisemisesta on. Bernsteinin-Vaziranin algoritmi ei olekaan käytännössä kovin hyödyllinen, koska se rajaa mustan laatikon, eli funktion toiminnan todella tarkasti. Monimutkaisemmissa algoritmeissa funktio voidaan kuitenkin helposti määrittää tavalla, jolla emme pysty helposti ennustamaan sen käyttäytymistä, esimerkiksi matemaattisten laskutoimitusten avulla.\n",
    "\n",
    "### Klassinen tausta: \n",
    "Jos salasana koostuu 6 bitistä, kuten esimerkkiksi 101001, niin klassisella tietkoneella tarvitaan salasanan selvittämiseen 6 kappaletta funktion kutsuja. Jos salasanan bittien määrä $n$ kasvaa, niin klassinen tietokone tarvitsee salasanan selvittämiseen $n$ kappaletta funktion kutsuja. Salasana saadaan selville testaamalla jokaista bittiä erikseen:\n",
    "\n",
    "$$\n",
    "f(100000)=1 \\\\\n",
    "f(010000)=0 \\\\\n",
    "f(001000)=1 \\\\\n",
    "f(000100)=0 \\\\\n",
    "f(000010)=0 \\\\\n",
    "f(000001)=1\n",
    "$$\n",
    "\n",
    "Kvanttitietokoneella salasanan selvittäminen onnistuu siten, että funktio ajaetaan vain kerran. Tätä kutsutaan Bernstein-Vazirani-algoritmiksi.\n",
    "\n",
    "Jos ehdimme, voimme palata Bernstein-Vaziranin algoritmiin ja pyrkiä näyttämään, miksi se toimii.\n",
    "\n",
    "\n",
    "### Bernstein-Vazirani-algoritmi\n",
    "\n",
    "a) Rakenna salasanaa $101101$ vastaava mustan laatikon toteutus ja sitä ympäröivä ratkaisualgoritmi:\n",
    "\n",
    "<img src=\"https://kvanttilaskenta.net/hub/static/content/kierros3/bv_piiri.png\" width=\"360\">\n",
    "\n",
    "Alla esimerkki mustan laatikon $U_f$ toteutuksesta, jota vastaava salasana on $1011$. Huomaa järjestys: salasanan ensimmäinen bitti vastaa syötekubiteista alimmaista, $x_3$. Salasanan $101101$ kanssa järjestyksellä ei ole kuitenkaan merkitystä.\n",
    "\n",
    "<img src=\"https://kvanttilaskenta.net/hub/static/content/kierros3/bv_box.png\" width=\"220\">\n",
    "\n",
    "Jos salasanassa on jossain kohdassa ykkösbitti, on mustan laatikon toteutuksessa CNOT-portti, joka kääntää tuloskubitin, jos syötteen vastaava bitti on yksi. Jos tuloskubittia käännetään parillinen määrä kertoja, ei piiri tee (tälle superposition osalle) mitään.\n",
    "\n",
    "Voit tarvittaessa hyödyntää myös ohjevideota:5\n",
    "\n",
    "<a href=\"https://youtu.be/sqJIpHYl7oo?t=241\" target=\"_blank\">Bernstein-Vazirani-algorimin tutoriaali</a>\n",
    "\n",
    "b) Simuloi kvanttipiirin toiminta, salasanan tulisi selvitä yhdellä algoritmin toistokerralla. Ohjeet tutoriaalissa.\n",
    "\n",
    "c) VAPAAEHTOINEN LISÄTEHTÄVÄ: Tee tutoriaalin loppuosassa oleva yleisempi algoritmi, jolla voit ratkaista $n$:stä bitistä koostuvan salasanan yhdellä yrityksellä. Tarkista piirin toiminta simuloimalla piiri.laskennallisesti\n",
    "\n",
    "\n",
    "OHJE A ja B kohdat:\n",
    "Jos sinulla on vaikeuksia kirjoittaa virheetöntä koodia Youtube-videosta, niin voit kopioida vaiheittain koodin tästä tietodostosta:\n",
    "\n",
    "<a href=\"https://kvanttilaskenta.net/hub/static/content/Bernstein_Vazirani_algorithm.ipynb\" target=\"_blank\">Bernstein_Vazirani_algorithm.ipynb </a>\n",
    "\n",
    "C-kohta:\n",
    "<a href=\"https://kvanttilaskenta.net/hub/static/content/Bernstein_Vazirani_algorithm_advanced.ipynb\" target=\"_blank\">Bernstein_Vazirani_algorithm_advanced.ipynb </a>\n",
    "\n",
    "\n",
    "Yritä kuitenkin koodata itse, näin opit paremmin.\n"
   ]
  },
  {
   "cell_type": "code",
   "execution_count": null,
   "metadata": {},
   "outputs": [],
   "source": [
    "# Vastuskenttä tehtävään 3. Voit myös tehdä oman jupyter notebook -tiedoston.\n",
    "from qiskit import *\n",
    "%matplotlib inline\n",
    "from qiskit.tools.visualization import plot_histogram\n",
    "# jatka tästä\n"
   ]
  },
  {
   "cell_type": "code",
   "execution_count": null,
   "metadata": {},
   "outputs": [],
   "source": []
  },
  {
   "cell_type": "code",
   "execution_count": null,
   "metadata": {},
   "outputs": [],
   "source": []
  }
 ],
 "metadata": {
  "kernelspec": {
   "display_name": "Python 3",
   "language": "python",
   "name": "python3"
  },
  "language_info": {
   "codemirror_mode": {
    "name": "ipython",
    "version": 3
   },
   "file_extension": ".py",
   "mimetype": "text/x-python",
   "name": "python",
   "nbconvert_exporter": "python",
   "pygments_lexer": "ipython3",
   "version": "3.7.6"
  }
 },
 "nbformat": 4,
 "nbformat_minor": 4
}
