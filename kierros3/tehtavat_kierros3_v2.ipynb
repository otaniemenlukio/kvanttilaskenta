{
 "cells": [
  {
   "cell_type": "markdown",
   "metadata": {},
   "source": [
    "## Tehtävä 1: Johdanto\n",
    "\n",
    "Tehtävän 1 tavoiteena on varmistaa että jokainen on saanut oman avaimen eli tokenin aktivoitua qiskit-palvelussa.\n",
    "\n",
    "Tehtävä on nopea tehdä: suorita alla olevat koodilohkot järjestyksessä läpi.\n",
    "\n",
    "Jos et ole vielä ottanut tokenia käyttöön, tee näin:\n",
    "\n",
    "Rekisteröitymisen jälkeen liitä tokenisi [IBM Quantum Experiencen käyttäjäsivulta](https://quantum-computing.ibm.com/account) heittomerkkien sisään, ja aja koodi:"
   ]
  },
  {
   "cell_type": "code",
   "execution_count": null,
   "metadata": {},
   "outputs": [],
   "source": [
    "from qiskit import IBMQ\n",
    "IBMQ.save_account(\"oma token tähän\")"
   ]
  },
  {
   "cell_type": "markdown",
   "metadata": {},
   "source": [
    "Token täytyy syöttää vain kerran, koska se tallennetaan kvanttilaskenta.net-käyttäjäsi tai oman tietokoneen käyttäjäsi yhteyteen.\n",
    "\n",
    "**HUOM:** Ennen kuin palautat notebookin, ota tokenisi pois kentästä. Meidän ei tarvitse tietää sitä!\n",
    "\n",
    "Alla on yksinkertaisen kvanttipiirin koodi, jotka käsittelimme jo kierroksen 2 laskuharjoituksissa. Rakenna, simuloi ja lähetä piiri lopuksi oikealle kvanttitietokoneelle laskettavaksi.\n",
    "\n",
    "Voit halutessasi ohjelmoida piirin toteutuksen ja ajamisvaiheet itse seuraavan tutoriaalin avulla:\n",
    "\n",
    "<a href=\"https://youtu.be/RrUTwq5jKM4\" target=\"_blank\">IBM:n \"Hello World\"-piirin tutoriaali</a>"
   ]
  },
  {
   "cell_type": "code",
   "execution_count": null,
   "metadata": {},
   "outputs": [],
   "source": [
    "# Jos kirjoitat koodin itse, niin aloita tästä.\n",
    "from qiskit import *\n"
   ]
  },
  {
   "cell_type": "code",
   "execution_count": null,
   "metadata": {},
   "outputs": [],
   "source": []
  },
  {
   "cell_type": "code",
   "execution_count": null,
   "metadata": {},
   "outputs": [],
   "source": []
  },
  {
   "cell_type": "code",
   "execution_count": null,
   "metadata": {},
   "outputs": [],
   "source": [
    "# Valmis esimerkkikoodi tehtävään 1 suoritettavaksi.\n",
    "# Etene vaiheittain, suorita koodilohkot painamalla Run-nappia ylhäältä.\n",
    "\n",
    "from qiskit import *\n",
    "\n",
    "quantum_register = QuantumRegister(2)\n",
    "classical_register = ClassicalRegister(2)\n",
    "circuit = QuantumCircuit(quantum_register, classical_register)\n",
    "\n",
    "%matplotlib inline\n",
    "circuit.draw(output='mpl')"
   ]
  },
  {
   "cell_type": "code",
   "execution_count": null,
   "metadata": {},
   "outputs": [],
   "source": [
    "# Lisätään Hadamard-portti H \n",
    "circuit.h(quantum_register[0])\n",
    "circuit.draw(output='mpl')"
   ]
  },
  {
   "cell_type": "code",
   "execution_count": null,
   "metadata": {},
   "outputs": [],
   "source": [
    "# Lisätään kvanttipiiriin CNOT-portti cx()-komennolla\n",
    "circuit.cx(quantum_register[0], quantum_register[1])\n",
    "circuit.draw(output='mpl')\n"
   ]
  },
  {
   "cell_type": "code",
   "execution_count": null,
   "metadata": {},
   "outputs": [],
   "source": [
    "# Mitataan molemmat kubitit, ja tallennetaan tulokset klassiseen rekisteriin\n",
    "circuit.measure(quantum_register, classical_register)\n",
    "circuit.draw(output='mpl')"
   ]
  },
  {
   "cell_type": "code",
   "execution_count": null,
   "metadata": {},
   "outputs": [],
   "source": [
    "# Simuloidaan piirin toiminta.\n",
    "simulator = Aer.get_backend('qasm_simulator')\n",
    "execute(circuit, backend=simulator)\n",
    "result = execute(circuit, backend=simulator).result()\n",
    "from qiskit.tools.visualization import plot_histogram\n",
    "plot_histogram(result.get_counts(circuit))"
   ]
  },
  {
   "cell_type": "code",
   "execution_count": null,
   "metadata": {},
   "outputs": [],
   "source": [
    "# Lähetetään koodi oikealle kvanttikoneelle. Ole kärsivällinen, odota kvanttitietokoneen vastausta.\n",
    "# Kun Jupyter odottaa vastausta, välilehden kuvakkeena näkyy tiimalasi..\n",
    "IBMQ.load_account()\n",
    "provider = IBMQ.get_provider('ibm-q')\n",
    "qcomp = provider.get_backend('ibmq_essex')\n",
    "job = execute(circuit, backend=qcomp)\n",
    "\n",
    "from qiskit.tools.monitor import job_monitor\n",
    "job_monitor(job) # Koodi jää odottamaan tähän, kun lähetys on jonossa ja käsiteltävänä\n",
    "\n",
    "result = job.result()\n",
    "plot_histogram(result.get_counts(circuit))"
   ]
  },
  {
   "cell_type": "markdown",
   "metadata": {},
   "source": [
    "$$\\newcommand{\\ket}[1]{\\left|{#1}\\right\\rangle}$$\n",
    "$$\\newcommand{\\bra}[1]{\\left\\langle{#1}\\right|}$$\n",
    "\n",
    "## Tehtävä 2\n",
    "Tehtävässä kaksi tutustutaan yleiseen kvanttipiirin avulla toteutettuun kvanttitilan teleportaatioon.\n",
    "\n",
    "### Quantum teleportation eli kvanttiteleportaatio\n",
    "Kvanttiteleportaation avulla voidaan siirtää kubitin tila fyysisesti kauas tietyillä esivalmisteluilla. Kvanttiteleportaatio perustuu kubittien lomittumiseen, eli kubittien väliseen kytkentään kvanttisysteemissä.\n",
    "\n",
    "<img src=\"https://kvanttilaskenta.net/hub/static/content/kierros3/teleportaatio.png\" width=\"500\">\n",
    "\n",
    "Yllä ja ohjevideossa käsiteltävässä piirissä siirretään kubitin 0 tila kubitiin 2, paikasta A paikkaan B.\n",
    "\n",
    "Ensin luodaan kubitin 1 ja 2 välille ns. Bellin pari eli lomitus Hadamard- ja CNOT-porttien avulla. Tämä pari luodaan esimerkiksi paikassa A, jonka jälkeen kubitti 2 siiretään fysisesti paikkaan B. \n",
    "\n",
    "Kun kubitin 0 tila halutaan siirtää kubitiin 2, niin paikassa A suoritetaan sarja operaatiota kubiteille 0 ja 1.  \n",
    "\n",
    "Kubittien 0 ja 1 tilat mitatataan ja klassiset mittaustulokset lähetetään paikkaan B.\n",
    "\n",
    "Mittaustuloksista riippuen paikassa B tehdään eri sarja operaatioita kubitille 2. Lopputuloksena kubitin 2 tila on sama kuin kubitin 0 alkuperäinen tila.\n",
    "\n",
    "\n",
    "a) Katso tutoriaalivideo ja rakenna 3:n kubitin systeemi. Simuloi piirin toiminta.\n",
    "\n",
    "Tutoriaalivideo:\n",
    "<a href=\"https://youtu.be/mMwovHK2NrE\" target=\"_blank\">Kvanttiteleportaation qiskit-tutoriaali</a>\n",
    "\n",
    "Videossa lähetetään ensin tila $\\ket 1$ kubitista 0 kubittiin 2. Tämä tila saadaan aikaan yhdellä X-portilla alussa.\n",
    "\n",
    "Lopun mittaustuloksissa nähdään ainoastaan tiloja, joissa kubitti 2 (binäärimerkkijonon ensimmäinen merkki) on 1, eli tila näyttäisi siirtyneen oikein. Muut kaksi bittiä ovat sattumanvaraisia.\n",
    "\n",
    "b) Luo piiri uudestaan erilaisella alkutilalla, ja tutki tuloksia.\n",
    "Jos muokkaat alkuperäistä koodia, aja jokainen solu uudestaan järjestyksessä, jotta saat uuden piirin.\n",
    "\n",
    "Kirjaa saamasi tulokset muistiin esimerkiksi alle.\n",
    "\n",
    "**OHJE:**\n",
    "Jos sinulla on vaikeuksia koodata tutoriaalivideon avulla, niin voit käyttää apuna linkin tiedostoa:\n",
    "<a href=\"http://kvanttilaskenta.net/hub/static/content/quantum_teleportation.ipynb\" target=\"_blank\">quantum_teleportation.ipynb</a>\n"
   ]
  },
  {
   "cell_type": "code",
   "execution_count": null,
   "metadata": {},
   "outputs": [],
   "source": [
    "# Kirjoita koodisi tähän, tai rakenna koodi erilliseen tiedostoon.\n"
   ]
  },
  {
   "cell_type": "code",
   "execution_count": null,
   "metadata": {},
   "outputs": [],
   "source": []
  },
  {
   "cell_type": "code",
   "execution_count": null,
   "metadata": {},
   "outputs": [],
   "source": []
  },
  {
   "cell_type": "markdown",
   "metadata": {},
   "source": [
    "Voit kirjata tuloksesi tähän.\n",
    "\n"
   ]
  },
  {
   "cell_type": "markdown",
   "metadata": {},
   "source": [
    "## Tehtävä 3: Unitaarinen matriisi\n",
    "\n",
    "Kompleksinen matriisi $A$ on unitaarinen, jos sen kompleksikonjukaatin transpoosi on $A$:n käänteismatriisi , eli\n",
    "\n",
    "$$\n",
    "A^{-1}=  \\overline{A}^{T} = A^{\\dagger}\n",
    "$$\n",
    "\n",
    "Kun matriisi $A$ on unitaarinen, on kuvaus $y=Ax$ unitaarinen kuvaus.\n",
    "\n",
    "Reaalimatriisi $A$ on unitaarinen, jos $A$:n transpoosi on $A$:n käänteismatriisi eli \n",
    "\n",
    "$$\n",
    "A^{-1}=A^{T}.\n",
    "$$\n",
    "\n",
    "Esimerkki:\n",
    "Olkoon\n",
    "$$\n",
    "A= \\frac{1}{\\sqrt 2} \\pmatrix {1 & 1 \\\\ -1 & 1} \n",
    "$$\n",
    "\n",
    "jolloin $A$:n käänteismatriisi on\n",
    "$$\n",
    "A^{-1}=A^{T} =\\frac{1}{\\sqrt 2} \\pmatrix {1 & -1 \\\\ 1 & 1} \n",
    "$$\n",
    "\n",
    "Kun matriisi $A$ transponoidaan, niin 1. vaakarivi muuttuu 1. pystyriviksi, ja 2. vaakarivi muuttuu 2. pystyriviksi.\n",
    "\n",
    "Tehtävä: Tutki onko ns. Pauli Y -matriisi eli Y-portin toimintaa kuvaava matriisi unitaarinen? Paulin Y-matriisi määritellään seuraavasti:\n",
    "\n",
    "\n",
    "$$\n",
    "Y=  \\pmatrix {0 & -i \\\\ i & 0} \n",
    "$$\n",
    "\n",
    "\n",
    "missä $i$ on imaginääriyksikkö.\n",
    "\n",
    "\n",
    "Ohje:\n",
    "1) Muodosta ensin matriisin $Y$ kompleksikonjukaatti $\\overline{Y}$ vaihtamalla imaginääriosien etumerkki. 2) Transponoi kompleksikonjugaatti, eli laske $\\overline{Y}^T=Y^\\dagger$. 3) Laske tulo $YY^{\\dagger}$, ja tutki onko tulos identtinen matriisi:\n",
    "\n",
    "$$\n",
    "YY^{\\dagger}= I\n",
    "$$\n",
    "missä $I$ on identtinen matriisi.\n",
    "\n",
    "\n",
    "<a href=\"http://math.tkk.fi/opetus/p3/04/L/L1printit.pdf\" target=\"_blank\">Kompleksilukujen laskutoimitukset</a>\n",
    "\n",
    "\n"
   ]
  },
  {
   "cell_type": "markdown",
   "metadata": {},
   "source": [
    "Voit kirjoittaa vastauksesi tähän.\n",
    "\n"
   ]
  },
  {
   "cell_type": "markdown",
   "metadata": {},
   "source": [
    "## Tehtävä 4: Tensoritulo\n",
    "\n",
    "<img src=\"https://kvanttilaskenta.net/hub/static/content/kierros3/teht4_X.png\" width=120>\n",
    "\n",
    "Kuvassa esitetään kahden kubitin piiri. Molemmat kubitit ovat ensin tilassa $\\ket 0$, jonka jälkeen niihin operoidaan Hadamard-portilla. Kubitit eivät ole lomittuneita, eli niiden välillä ei ole kytkentää, koska esimerkiksi CNOT-porttia ei käytetä. Molempien kubittien tila voidaan esittää erikseen seuraavasti:\n",
    "\n",
    "$$\n",
    "\\ket + = \\frac 1 {\\sqrt 2} (\\ket 0 + \\ket 1)\n",
    "$$\n",
    "\n",
    "Piirin ajon jälkeen koko systeemin tila voitaisiin esittää seuraavissa yhtäpitävissä muodoissa, jotka esittävät samaa tilaa eri notaatioilla:\n",
    "\n",
    "$$\n",
    "\\ket{++} = \\ket + \\ket + = \\ket + \\otimes \\ket +,\n",
    "$$\n",
    "\n",
    "missä operaattori $\\otimes$ merkitsee kvanttitilojen välistä tensorituloa.\n",
    "\n",
    "Lasketaan nyt tensoritulo auki tavalliseen $\\ket 0$ ja $\\ket 1$ muodostamaan binäärikantaan:\n",
    "\n",
    "$$\n",
    "\\ket + \\otimes \\ket + = \\frac 1 {\\sqrt 2} (\\ket 0 + \\ket 1) \\otimes \\frac 1 {\\sqrt 2} (\\ket 0 + \\ket 1) \\\\\n",
    "= \\left(\\frac 1 {\\sqrt 2}\\right)^2 (\\ket 0 \\otimes \\ket 0 + \\ket 0 \\otimes \\ket 1 + \\ket 1 \\otimes \\ket 0 + \\ket 1 \\otimes \\ket 1)\n",
    "$$\n",
    "\n",
    "Yllä tensoritulo suoritettiin siinä mielessä samalla tavalla kuin tavallinen tulo, että summatermien tulo avattiin osittelulain mukaisesti. Samaan tapaan kuin aiemmin, merkinnät $\\ket{00}$, $\\ket 0 \\ket 0$ ja $\\ket 0 \\otimes \\ket 0$ tarkoittavat samaa asiaa, eli:\n",
    "\n",
    "$$\n",
    "= \\frac 1 2 (\\ket{0}\\ket{0} + \\ket{0}\\ket{1} + \\ket{1}\\ket{0} + \\ket{1}\\ket{1}) \\\\\n",
    "= \\frac 1 2 (\\ket{00} + \\ket{01} + \\ket{10} + \\ket{11})\n",
    "$$\n",
    "\n",
    "Kierroksen 2 kahden kubitin tilat esitettiin pystyvektoreina. Tämäkin lauseke voidaan esittää pystyvektorien avulla:\n",
    "\n",
    "$$\n",
    "= \\frac 1 2 \\left(\\pmatrix{1 \\\\ 0 \\\\ 0 \\\\ 0} + \\pmatrix{0 \\\\ 1 \\\\ 0 \\\\ 0} + \\pmatrix{0 \\\\ 0 \\\\ 1 \\\\ 0} + \\pmatrix{0 \\\\ 0 \\\\ 0 \\\\ 1} \\right)\n",
    "= \\frac 1 2 \\pmatrix {1\\\\1\\\\1\\\\1}\n",
    "$$\n",
    "\n",
    "### Tehtävä\n",
    "\n",
    "Esitä alla näkyvän piirin tila, eli tila $\\ket{-+}$, binäärimuotoisten kantavektoreiden avulla. Käytä esimerkkiä apuna. Käytä ket-vektoriesitystä, pystyvektoriesitystä ei tarvitse laskea.\n",
    "\n",
    "<img src=\"https://kvanttilaskenta.net/hub/static/content/kierros3/teht4_H.png\" width=160>\n",
    "\n",
    "Kertauksena: $\\ket - = \\frac 1 {\\sqrt 2} (\\ket 0 - \\ket 1)$\n",
    "\n"
   ]
  },
  {
   "cell_type": "markdown",
   "metadata": {},
   "source": [
    "Kirjoita vastaus tähän. Ket-merkintä onnistuu | ja > -merkeillä: |10>\n",
    "\n"
   ]
  }
 ],
 "metadata": {
  "kernelspec": {
   "display_name": "Python 3",
   "language": "python",
   "name": "python3"
  },
  "language_info": {
   "codemirror_mode": {
    "name": "ipython",
    "version": 3
   },
   "file_extension": ".py",
   "mimetype": "text/x-python",
   "name": "python",
   "nbconvert_exporter": "python",
   "pygments_lexer": "ipython3",
   "version": "3.7.6"
  }
 },
 "nbformat": 4,
 "nbformat_minor": 4
}
