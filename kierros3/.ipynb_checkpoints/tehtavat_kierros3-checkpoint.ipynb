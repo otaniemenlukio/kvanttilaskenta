{
 "cells": [
  {
   "cell_type": "markdown",
   "metadata": {},
   "source": [
    "## Johdantotehtävä 1, kierros 3\n",
    "\n",
    "Tehtävän 1 tavoiteena on varmistaa että jokainen on saanut oman avaimen eli tokenin aktivoitua qiskit-palvelussa. \n",
    "\n",
    "Jos et ole vielä ottanut tokenia käyttöön, tee näin:\n",
    "\n",
    "Rekisteröitymisen jälkeen liitä tokenisi [IBM Quantum Experiencen käyttäjäsivulta](https://quantum-computing.ibm.com/account) heittomerkkien sisään, ja aja koodi:"
   ]
  },
  {
   "cell_type": "code",
   "execution_count": null,
   "metadata": {},
   "outputs": [],
   "source": [
    "from qiskit import IBMQ\n",
    "IBMQ.save_account(\"oma token tähän\")"
   ]
  },
  {
   "cell_type": "markdown",
   "metadata": {},
   "source": [
    "Token täytyy syöttää vain kerran, koska se tallennetaan kvanttilaskenta.net-käyttäjäsi tai oman tietokoneen käyttäjäsi yhteyteen.\n",
    "\n",
    "**HUOM:** Ennen kuin palautat notebookin, ota tokenisi pois kentästä. Meidän ei tarvitse tietää sitä!\n",
    "\n",
    "Alla on yksinkertaisen kvanttipiirin koodi, jotka käsittelimme jo kierroksen 2 laskuharjoituksissa. Rakenna, simuloi ja lähetä piiri lopuksi oikealle kvanttitietokoneelle laskettavaksi.\n",
    "\n",
    "Voit halutessasi ohjelmoida piirin toteutuksen ja ajamisvaiheet itse seuraavan tutoriaalin avulla:\n",
    "\n",
    "<a href=\"https://youtu.be/RrUTwq5jKM4\" target=\"_blank\">IBM:n \"Hello World\"-piirin tutoriaali</a>"
   ]
  },
  {
   "cell_type": "code",
   "execution_count": null,
   "metadata": {},
   "outputs": [],
   "source": [
    "# Jos kirjoitat koodin itse, niin aloita tästä.\n",
    "from qiskit import *\n"
   ]
  },
  {
   "cell_type": "code",
   "execution_count": null,
   "metadata": {},
   "outputs": [],
   "source": []
  },
  {
   "cell_type": "code",
   "execution_count": null,
   "metadata": {},
   "outputs": [],
   "source": []
  },
  {
   "cell_type": "code",
   "execution_count": null,
   "metadata": {},
   "outputs": [],
   "source": [
    "# Valmis esimerkkikoodi tehtävään 1 suoritettavaksi.\n",
    "# Etene vaiheittain, suorita koodilohkot painamalla Run-nappia ylhäältä.\n",
    "\n",
    "from qiskit import *\n",
    "\n",
    "quantum_register = QuantumRegister(2)\n",
    "classical_register = ClassicalRegister(2)\n",
    "circuit = QuantumCircuit(quantum_register, classical_register)\n",
    "\n",
    "circuit.draw(output='mpl')"
   ]
  },
  {
   "cell_type": "code",
   "execution_count": null,
   "metadata": {},
   "outputs": [],
   "source": [
    "# Lisätään Hadamard-portti H \n",
    "circuit.h(quantum_register[0])\n",
    "circuit.draw(output='mpl')"
   ]
  },
  {
   "cell_type": "code",
   "execution_count": null,
   "metadata": {},
   "outputs": [],
   "source": [
    "# Lisätään kvanttipiiriin CNOT-portti cx()-komennolla\n",
    "circuit.cx(quantum_register[0], quantum_register[1])\n",
    "circuit.draw(output='mpl')\n"
   ]
  },
  {
   "cell_type": "code",
   "execution_count": null,
   "metadata": {},
   "outputs": [],
   "source": [
    "# Mitataan molemmat kubitit, ja tallennetaan tulokset klassiseen rekisteriin\n",
    "circuit.measure(quantum_register, classical_register)\n",
    "circuit.draw(output='mpl')"
   ]
  },
  {
   "cell_type": "code",
   "execution_count": null,
   "metadata": {},
   "outputs": [],
   "source": [
    "# Simuloidaan piirin toiminta.\n",
    "simulator = Aer.get_backend('qasm_simulator')\n",
    "execute(circuit, backend=simulator)\n",
    "result = execute(circuit, backend=simulator).result()\n",
    "from qiskit.tools.visualization import plot_histogram\n",
    "plot_histogram(result.get_counts(circuit))"
   ]
  },
  {
   "cell_type": "code",
   "execution_count": null,
   "metadata": {},
   "outputs": [],
   "source": [
    "# Lähetetään koodi oikealle kvanttikoneelle. Ole kärsivällinen, odota kvanttitietokoneen vastausta.\n",
    "# Kun Jupyter odottaa vastausta, välilehdellä näkyy tiimalasi..\n",
    "IBMQ.load_account()\n",
    "provider = IBMQ.get_provider('ibm-q')\n",
    "qcomp = provider.get_backend('ibmq_essex')\n",
    "job = execute(circuit, backend=qcomp)\n",
    "\n",
    "from qiskit.tools.monitor import job_monitor\n",
    "job_monitor(job) # Koodi jää odottamaan tähän, kun lähetys on jonossa ja käsiteltävänä\n",
    "\n",
    "result = job.result()\n",
    "plot_histogram(result.get_counts(circuit))"
   ]
  },
  {
   "cell_type": "markdown",
   "metadata": {},
   "source": [
    "## Tehtävä 2, kierros 3\n",
    "\n",
    "Tehtävässä 2 rakennetaan tutoriaalin avulla kvanttipiiri, joka ratkaisee binaarimuotoisen salasanan yhdellä yrityksellä. Salasana koostuu vain 0:sta ja 1:stä, salasanan pituus voi vaihdella. Annettuna on funktio eli musta laatikko, joka käyttäytyy sovitulla tavalla salasanan perusteella. Funktio käyttäytyy siten, että se vertailee salasanan jokaista bittiä ja syötteen jokaista bittiä. Funktio laskee AND-operaation salasanan $s$ ja syötteen $x$ jokaisen bitin välillä.   \n",
    "\n",
    "$$\n",
    "\\begin{array}{r|cccccc}\n",
    "s & 0 & 1 & 1 & 0 & 1 & 0 \\\\\n",
    "x & 0 & 0 & 1 & 1 & 1 & 0 \\\\ \n",
    "\\hline\n",
    "\\mathit{AND}  &0&0&1&0&1&0\n",
    "\\end{array}\n",
    "$$\n",
    "\n",
    "Funktio palauttaa 0 jos tuloksena oli parillinen määrä ykkösbittejä, muuten funktio palauttaa 1. Toisin sanoen, funktio kertoo, kuinka monta kertaa salasanassa ja syötteessä on 1 bitti samassa kohdassa ja palauttaa tiedon onko näitä kohtia pariton vai parillinen määrä. Taulukon esimerkissä funktio palauttaisi arvon 0.\n",
    "\n",
    "Tässä termi \"musta laatikko\" ei tarkoita, ettemme tietäisi piirin toteutusta, päinvastoin: piirin jokainen portti on oltava tiedossa, jotta se voidaan suorittaa kvanttitietokonella. Tämä herättää kysymyksen, mitä hyötyä salasanan ratkaisemisesta on. Bernsteinin-Vaziranin algoritmi ei olekaan käytännössä kovin hyödyllinen, koska se rajaa mustan laatikon, eli funktion toiminnan todella tarkasti. Monimutkaisemmissa algoritmeissa funktio voidaan kuitenkin helposti määrittää tavalla, jolla emme pysty helposti ennustamaan sen käyttäytymistä, esimerkiksi matemaattisten laskutoimitusten avulla.\n",
    ". . . \n",
    "\n",
    "### Klassinen tausta: \n",
    "Jos salasana koostuu 6 bitistä, kuten esimerkkiksi 101001, niin klassisella tietkoneella tarvitaan salasanan selvittämiseen 6 kappaletta funktion kutsuja. Jos salasanan bittien määrä $n$ kasvaa, niin klassinen tietokone tarvitsee salasanan selvittämiseen $n$ kappaletta funktion kutsuja. Salasana saadaan selville testaamalla jokaista bittiä erikseen:\n",
    "\n",
    "$$\n",
    "f(100000)=1 \\\\\n",
    "f(010000)=0 \\\\\n",
    "f(001000)=1 \\\\\n",
    "f(000100)=0 \\\\\n",
    "f(000010)=0 \\\\\n",
    "f(000001)=1\n",
    "$$\n",
    "\n",
    "Kvanttitietokoneella salasanan selvittäminen onnistuu siten, että funktio ajaetaan vain kerran. Tätä kutsutaan Bernstein-Vazirani-algoritmiksi.\n",
    "\n",
    "\n",
    "### Bernstein-Vazirani-algoritmi\n",
    "\n",
    "a) Rakenna salasanaa $101101$ vastaava mustan laatikon toteutus ja sitä ympäröivä ratkaisualgoritmi:\n",
    "\n",
    "<img src=\"https://kvanttilaskenta.net/hub/static/content/kierros3/bv_piiri.png\" width=\"360\">\n",
    "\n",
    "Alla esimerkki mustan laatikon $U_f$ toteutuksesta, jota vastaava salasana on $1011$. Huomaa järjestys: salasanan ensimmäinen bitti vastaa syötekubiteista alimmaista, $x_3$. Salasanan $101101$ kanssa järjestyksellä ei ole kuitenkaan merkitystä.\n",
    "\n",
    "<img src=\"https://kvanttilaskenta.net/hub/static/content/kierros3/bv_box.png\" width=\"220\">\n",
    "\n",
    "Jos salasanassa on jossain kohdassa ykkösbitti, on mustan laatikon toteutuksessa CNOT-portti, joka kääntää tuloskubitin, jos syötteen vastaava bitti on yksi. Jos tuloskubittia käännetään parillinen määrä kertoja, ei piiri tee (tälle superposition osalle) mitään.\n",
    "\n",
    "Voit tarvittaessa hyödyntää myös ohjevideota:5\n",
    "\n",
    "<a href=\"https://youtu.be/sqJIpHYl7oo?t=241\" target=\"_blank\">Bernstein-Vazirani-algorimin tutoriaali</a>\n",
    "\n",
    "b) Simuloi kvanttipiirin toiminta, salasanan tulisi selvitä yhdellä algoritmin toistokerralla. Ohjeet tutoriaalissa.\n",
    "\n",
    "c) VAPAAEHTOINEN LISÄTEHTÄVÄ: Tee tutoriaalin loppuosassa oleva yleisempi algoritmi, jolla voit ratkaista $n$:stä bitistä koostuvan salasanan yhdellä yrityksellä. Tarkista piirin toiminta simuloimalla piiri.\n",
    "\n",
    "d) VAPAAEHTOINEN LISÄTEHTÄVÄ: Perustele laskennallisesti piirin toiminta. Apua ja ohjeita löydät qiskitin oppikirjasta. <a href=\"https://qiskit.org/textbook/ch-algorithms/bernstein-vazirani.html\" target=\"_blank\">Bernstein-Vazirani-algorimi qiskit oppikirjan materiaalissa</a> Tätä tehtävää voidaan käsitellä laskuharjoitustilaisuudessa, jos mielenkiintoa löytyy.\n",
    "\n",
    "Huomaa, että materiaalissa algoritmi ei käytä ylimääräistä tuloskubittia, vaan musta laatikko operoi kantatiloihin vaihtamalla niiden etumerkkiä, jos funktion tulos oli yksi.\n",
    "\n",
    "\n",
    "\n",
    "OHJE A ja B kohdat:\n",
    "Jos sinulla on vaikeuksia kirjoittaa virheetöntä koodia Youtube-videosta, niin voit kopioida vaiheittain koodin tästä tietodostosta:\n",
    "\n",
    "<a href=\"https://kvanttilaskenta.net/hub/static/content/Bernstein_Vazirani_algorithm.ipynb\" target=\"_blank\">Bernstein_Vazirani_algorithm.ipynb </a>\n",
    "\n",
    "C-kohta:\n",
    "<a href=\"https://kvanttilaskenta.net/hub/static/content/Bernstein_Vazirani_algorithm_advanced.ipynb\" target=\"_blank\">Bernstein_Vazirani_algorithm_advanced.ipynb </a>\n",
    "\n",
    "\n",
    "Yritä kuitenkin koodata itse, näin opit paremmin.\n"
   ]
  },
  {
   "cell_type": "code",
   "execution_count": null,
   "metadata": {},
   "outputs": [],
   "source": [
    "# Vastuskenttä tehtävään 2. Voit myös tehdä oman jupyter notebook -tiedoston.\n",
    "from qiskit import *\n",
    "%matplotlib inline\n",
    "from qiskit.tools.visualization import plot_histogram\n",
    "# jatka tästä\n"
   ]
  },
  {
   "cell_type": "code",
   "execution_count": null,
   "metadata": {},
   "outputs": [],
   "source": []
  },
  {
   "cell_type": "code",
   "execution_count": null,
   "metadata": {},
   "outputs": [],
   "source": []
  },
  {
   "cell_type": "code",
   "execution_count": null,
   "metadata": {},
   "outputs": [],
   "source": []
  },
  {
   "cell_type": "markdown",
   "metadata": {},
   "source": [
    "## Tehtävä 3, kierros 3\n",
    "Tehtävässä kolme tutustutaan erään kvanttipiirin avulla toteutettuun kvanttitilan teleportaatioon.\n",
    "\n",
    "### Quantum teleportation eli kvanttiteleportaatio\n",
    "Kvanttiteleportaation avulla voidaan siirtää kubitin tila fyysisesti kauas tietyillä esivalmisteluilla. Kvanttiteleportaatio perustuu kubittien lomittumiseen, eli kubittien väliseen kytkentään kvanttisysteemissä.\n",
    "\n",
    "<img src=\"https://kvanttilaskenta.net/hub/static/content/kierros3/teleportaatio.png\" width=\"500\">\n",
    "\n",
    "Yllä ja ohjevideossa käsiteltävässä piirissä siirretään kubitin 0 tila kubitiin 2, paikasta A paikkaan B.\n",
    "\n",
    "Ensin luodaan kubitin 1 ja 2 välille ns. Bellin pari eli lomitus Hadamard- ja CNOT-porttien avulla. Tämä pari luodaan esimerkiksi paikassa A, jonka jälkeen kubitti 2 siiretään fysisesti paikkaan B. \n",
    "\n",
    "Kun kubitin 0 tila halutaan siirtää kubitiin 2, niin paikassa A suoritetaan sarja operaatiota kubiteille 0 ja 1.  \n",
    "\n",
    "Kubittien 0 ja 1 tilat mitatataan ja klassiset mittaustulokset lähetetään paikkaan B.\n",
    "\n",
    "Mittaustuloksista riippuen paikassa B tehdään eri sarja operaatioita kubitille 2. Lopputuloksena kubitin 2 tila on sama kuin kubitin 0 alkuperäinen tila.\n",
    "\n",
    "\n",
    "Katso tutoriaalivideo ja rakenna 3:n kubitin systeemi. Simuloi piirin toiminta.\n",
    "\n",
    "Tutoriaalivideo:\n",
    "<a href=\"https://youtu.be/mMwovHK2NrE\" target=\"_blank\">Kvanttiteleportaation tutoriaali </a>\n",
    "\n",
    "\n",
    "**OHJE:**\n",
    "Jos sinulla on vaikeuksia koodata tutoriaalivideon avulla, niin voit käyttää apuna linkin tiedostoa:\n",
    "<a href=\"http://kvanttilaskenta.net/hub/static/content/quantum_teleportation.ipynb\" target=\"_blank\">quantum_teleportation.ipynb</a>\n"
   ]
  },
  {
   "cell_type": "code",
   "execution_count": null,
   "metadata": {},
   "outputs": [],
   "source": [
    "# Kirjoita koodisi tähän, tai rakenna koodi erilliseen tiedostoon.\n"
   ]
  },
  {
   "cell_type": "markdown",
   "metadata": {},
   "source": [
    "## Tehtävä 4: Unitaarinen matriisi\n",
    "\n",
    "Kompleksinen matriisi $A$ on unitaarinen, jos sen kompleksikonjukaatin transpoosi on $A$:n käänteismatriisi , eli\n",
    "\n",
    "$$\n",
    "A^{-1}=  \\overline{A}^{T} = A^{\\dagger}\n",
    "$$\n",
    "\n",
    "Kun matriisi $A$ on unitaarinen, on kuvaus $y=Ax$ unitaarinen kuvaus.\n",
    "\n",
    "Reaalimatriisi $A$ on unitaarinen, jos $A$:n transpoosi on $A$:n käänteismatriisi eli \n",
    "\n",
    "$$\n",
    "A^{-1}=A^{T}.\n",
    "$$\n",
    "\n",
    "Esimerkki:\n",
    "Olkoon\n",
    "$$\n",
    "A= \\frac{1}{\\sqrt 2} \\pmatrix {1 & 1 \\\\ -1 & 1} \n",
    "$$\n",
    "\n",
    "jolloin $A$:n käänteismatriisi on:\n",
    "$$\n",
    "A^{-1}=A^{T} =\\frac{1}{\\sqrt 2} \\pmatrix {1 & -1 \\\\ 1 & 1} \n",
    "$$\n",
    "\n",
    "Kun matriisi $A$ transponoidaan, niin 1. vaakarivi muuttuu 1. pystyriviksi, ja 2. vaakarivi muuttuu 2. pystyriviksi.\n",
    "\n",
    "Tehtävä: Tutki onko ns. Pauli Y -matriisi eli Y-portin toimintaa kuvaava matriisi unitaarinen? Paulin Y-matriisi määritellään seuraavasti:\n",
    "\n",
    "\n",
    "$$\n",
    "Y=  \\pmatrix {0 & -i \\\\ i & 0} \n",
    "$$\n",
    "\n",
    "\n",
    "missä $i$ on imaginääriyksikkö.\n",
    "\n",
    "\n",
    "Ohje:\n",
    "1) Muodosta ensin matriisin $Y$ kompleksikonjukaatti $\\overline{Y}$ vaihtamalla imaginääriosien etumerkki. 2) Transponoi kompleksikonjugaatti, eli laske $\\overline{Y}^T=Y^\\dagger$. 3) Laske tulo $YY^{\\dagger}$, ja tutki onko tulos identtinen matriisi:\n",
    "\n",
    "$$\n",
    "YY^{\\dagger}= I\n",
    "$$\n",
    "missä $I$ on identtinen matriisi.\n",
    "\n",
    "\n",
    "<a href=\"http://math.tkk.fi/opetus/p3/04/L/L1printit.pdf\" target=\"_blank\">Kompleksilukujen laskutoimitukset</a>\n",
    "\n",
    "\n"
   ]
  },
  {
   "cell_type": "markdown",
   "metadata": {},
   "source": [
    "Voit kirjoittaa vastauksesi tähän.\n",
    "\n"
   ]
  }
 ],
 "metadata": {
  "kernelspec": {
   "display_name": "Python 3",
   "language": "python",
   "name": "python3"
  },
  "language_info": {
   "codemirror_mode": {
    "name": "ipython",
    "version": 3
   },
   "file_extension": ".py",
   "mimetype": "text/x-python",
   "name": "python",
   "nbconvert_exporter": "python",
   "pygments_lexer": "ipython3",
   "version": "3.7.6"
  }
 },
 "nbformat": 4,
 "nbformat_minor": 4
}
